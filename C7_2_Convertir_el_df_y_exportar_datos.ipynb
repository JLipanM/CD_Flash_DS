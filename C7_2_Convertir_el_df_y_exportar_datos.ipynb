{
  "nbformat": 4,
  "nbformat_minor": 0,
  "metadata": {
    "colab": {
      "provenance": [],
      "authorship_tag": "ABX9TyPZMJyjb6LSCxjeqLucnklm",
      "include_colab_link": true
    },
    "kernelspec": {
      "name": "python3",
      "display_name": "Python 3"
    },
    "language_info": {
      "name": "python"
    }
  },
  "cells": [
    {
      "cell_type": "markdown",
      "metadata": {
        "id": "view-in-github",
        "colab_type": "text"
      },
      "source": [
        "<a href=\"https://colab.research.google.com/github/Markohf/CD_Flash_DS/blob/main/C7_2_Convertir_el_df_y_exportar_datos.ipynb\" target=\"_parent\"><img src=\"https://colab.research.google.com/assets/colab-badge.svg\" alt=\"Open In Colab\"/></a>"
      ]
    },
    {
      "cell_type": "markdown",
      "source": [
        "#Convertir el df a np.array y diccionario"
      ],
      "metadata": {
        "id": "XkLmBLQ4Ef4k"
      }
    },
    {
      "cell_type": "code",
      "execution_count": null,
      "metadata": {
        "id": "XFge0taDEMNP"
      },
      "outputs": [],
      "source": [
        "from google.colab import drive\n",
        "drive.mount('/content/drive')"
      ]
    },
    {
      "cell_type": "code",
      "source": [
        "import pandas as pd\n",
        "filename = '/content/drive/MyDrive/Flashcamp - Data Science/BBDD/linear.csv'\n",
        "df = pd.read_csv(filename)\n",
        "df.head()"
      ],
      "metadata": {
        "id": "6frleeVPEvW4"
      },
      "execution_count": null,
      "outputs": []
    },
    {
      "cell_type": "markdown",
      "source": [
        "Existen 2 formas de convertir un df de pandas a un array de numpy:\n",
        "* Forma 1: df.to_numpy()\n",
        "* Forma 2: df.values"
      ],
      "metadata": {
        "id": "chJJUPKbFut-"
      }
    },
    {
      "cell_type": "code",
      "source": [
        "#Usaremos la primera\n",
        "df.to_numpy()"
      ],
      "metadata": {
        "id": "zYVgw4dBF-5x"
      },
      "execution_count": null,
      "outputs": []
    },
    {
      "cell_type": "code",
      "source": [
        "filename = '/content/drive/MyDrive/Flashcamp - Data Science/BBDD/linear.csv'\n",
        "df = pd.read_csv(filename)\n",
        "df.head()"
      ],
      "metadata": {
        "id": "bGqBVGBsGDeq"
      },
      "execution_count": null,
      "outputs": []
    },
    {
      "cell_type": "code",
      "source": [
        "#Ahora convertiremos a diccionario\n",
        "df.to_dict()"
      ],
      "metadata": {
        "id": "vkBDtMd3GV2L"
      },
      "execution_count": null,
      "outputs": []
    },
    {
      "cell_type": "markdown",
      "source": [
        "#Exportar datos"
      ],
      "metadata": {
        "id": "KAvMNjTTGjOG"
      }
    },
    {
      "cell_type": "code",
      "source": [
        "#Exportar a csv.\n",
        "df.to_csv(path_or_buf='Test1.csv', index=False)"
      ],
      "metadata": {
        "id": "aS642dYcGo6j"
      },
      "execution_count": null,
      "outputs": []
    },
    {
      "cell_type": "code",
      "source": [
        "#Expotar a excel.\n",
        "df.to_excel(excel_writer='Test2.xlsx', index=False)"
      ],
      "metadata": {
        "id": "CKrOgz4wHK4h"
      },
      "execution_count": null,
      "outputs": []
    }
  ]
}