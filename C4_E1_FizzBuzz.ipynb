{
  "nbformat": 4,
  "nbformat_minor": 0,
  "metadata": {
    "colab": {
      "provenance": [],
      "authorship_tag": "ABX9TyPdVKxF5yBea81z7dNs58pG",
      "include_colab_link": true
    },
    "kernelspec": {
      "name": "python3",
      "display_name": "Python 3"
    },
    "language_info": {
      "name": "python"
    }
  },
  "cells": [
    {
      "cell_type": "markdown",
      "metadata": {
        "id": "view-in-github",
        "colab_type": "text"
      },
      "source": [
        "<a href=\"https://colab.research.google.com/github/Markohf/CD_Flash_DS/blob/main/C4_E1_FizzBuzz.ipynb\" target=\"_parent\"><img src=\"https://colab.research.google.com/assets/colab-badge.svg\" alt=\"Open In Colab\"/></a>"
      ]
    },
    {
      "cell_type": "markdown",
      "source": [
        "# FizzBuzz\n",
        "\n",
        "Hace unas clases vimos el ejercicio fizzbuzz, ahora lo resolveremos de forma completa.\n",
        "\n",
        "Escribe un código que para los números (del 1 al 20) múltiplos de tres imprime “Frizz”, para los múltiplos de cinco imprime “Buzz”, para los números que son múltiplos de tres y cinco imprime “FizzBuzz” y en caso contrario imprime el número."
      ],
      "metadata": {
        "id": "giL9OZQgpWvp"
      }
    },
    {
      "cell_type": "code",
      "execution_count": null,
      "metadata": {
        "id": "YK1xarjOpSTG"
      },
      "outputs": [],
      "source": [
        "for num in range(1, 21):\n",
        "  if (num % 3 == 0 and num % 5 == 0):\n",
        "    print(\"FizzBuzz\")\n",
        "  elif num % 3 == 0:\n",
        "    print(\"Fizz\")\n",
        "  elif num % 5 == 0:\n",
        "    print(\"Buzz\")\n",
        "  else:\n",
        "    print(num)"
      ]
    }
  ]
}