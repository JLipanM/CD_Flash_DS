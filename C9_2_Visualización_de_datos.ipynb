{
  "nbformat": 4,
  "nbformat_minor": 0,
  "metadata": {
    "colab": {
      "provenance": [],
      "authorship_tag": "ABX9TyOUlOFrd0ZOn+dFTinRh//n",
      "include_colab_link": true
    },
    "kernelspec": {
      "name": "python3",
      "display_name": "Python 3"
    },
    "language_info": {
      "name": "python"
    }
  },
  "cells": [
    {
      "cell_type": "markdown",
      "metadata": {
        "id": "view-in-github",
        "colab_type": "text"
      },
      "source": [
        "<a href=\"https://colab.research.google.com/github/Markohf/CD_Flash_DS/blob/main/C9_2_Visualizaci%C3%B3n_de_datos.ipynb\" target=\"_parent\"><img src=\"https://colab.research.google.com/assets/colab-badge.svg\" alt=\"Open In Colab\"/></a>"
      ]
    },
    {
      "cell_type": "code",
      "execution_count": null,
      "metadata": {
        "id": "xL53yg1U6vBi"
      },
      "outputs": [],
      "source": [
        "from google.colab import drives\n",
        "drive.mount('/content/drive')"
      ]
    },
    {
      "cell_type": "code",
      "source": [
        "import pandas as pd\n",
        "import matplotlib.pyplot as plt"
      ],
      "metadata": {
        "id": "jSuyaOXR8rtS"
      },
      "execution_count": null,
      "outputs": []
    },
    {
      "cell_type": "code",
      "source": [
        "# Creamos un plot simple\n",
        "tiempo = [1, 2, 3, 4, 5, 6, 7, 8, 9, 10, 11]\n",
        "venta = [100, 110, 115, 115, 120, 125, 130, 135, 145, 155, 170]\n",
        "plt.plot(tiempo, venta)"
      ],
      "metadata": {
        "id": "CxGJACHm_CzQ"
      },
      "execution_count": null,
      "outputs": []
    },
    {
      "cell_type": "code",
      "source": [
        "tiempo = [1, 2, 3, 4, 5, 6, 7, 8, 9, 10, 11]\n",
        "venta1 = [100, 110, 115, 115, 120, 125, 130, 135, 145, 155, 170]\n",
        "venta2 = [50, 51, 55, 65, 75, 85, 90, 100, 110, 115, 125]\n",
        "plt.plot(tiempo, venta1)\n",
        "plt.plot(tiempo, venta2)"
      ],
      "metadata": {
        "id": "Y-zNr_2wCmC3"
      },
      "execution_count": null,
      "outputs": []
    },
    {
      "cell_type": "code",
      "source": [
        "#\n",
        "tiempo = [1, 2, 3, 4, 5, 6, 7, 8, 9, 10, 11]\n",
        "venta1 = [100, 110, 115, 115, 120, 125, 130, 135, 145, 155, 170]\n",
        "venta2 = [50, 51, 55, 65, 75, 85, 90, 100, 110, 115, 125]\n",
        "plt.bar(tiempo, venta1)\n",
        "plt.bar(tiempo, venta2)"
      ],
      "metadata": {
        "id": "Hx2rnyhxC6DO"
      },
      "execution_count": null,
      "outputs": []
    },
    {
      "cell_type": "code",
      "source": [
        "tiempo = [1, 2, 3, 4, 5, 6, 7, 8, 9, 10, 11]\n",
        "venta1 = [100, 110, 115, 115, 120, 125, 130, 135, 145, 155, 170]\n",
        "venta2 = [50, 51, 55, 65, 75, 85, 90, 100, 110, 115, 125]\n",
        "plt.scatter(tiempo, venta1)\n",
        "plt.scatter(tiempo, venta2)"
      ],
      "metadata": {
        "id": "mudtI1QXDB5-"
      },
      "execution_count": null,
      "outputs": []
    }
  ]
}