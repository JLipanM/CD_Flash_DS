{
  "nbformat": 4,
  "nbformat_minor": 0,
  "metadata": {
    "colab": {
      "provenance": [],
      "authorship_tag": "ABX9TyN/9O2RgJyfjJiuCS51Bzj7",
      "include_colab_link": true
    },
    "kernelspec": {
      "name": "python3",
      "display_name": "Python 3"
    },
    "language_info": {
      "name": "python"
    }
  },
  "cells": [
    {
      "cell_type": "markdown",
      "metadata": {
        "id": "view-in-github",
        "colab_type": "text"
      },
      "source": [
        "<a href=\"https://colab.research.google.com/github/Markohf/CD_Flash_DS/blob/main/C7_1_Limpieza_de_datos_faltantes.ipynb\" target=\"_parent\"><img src=\"https://colab.research.google.com/assets/colab-badge.svg\" alt=\"Open In Colab\"/></a>"
      ]
    },
    {
      "cell_type": "markdown",
      "source": [
        "#Limpieza de datos faltantes\n",
        "\n",
        "* Como hemos visto en ejercicios anteriores manejar datos faltantes (`NaN`, `Na`, `null`) no es tan simple.\n",
        "* No hay unaforma perfecta para limpiar este tipo de datos y las decisiones que tomes deben depender de la naturaleza de tu dataset y de la finalidad de tu análisis.\n",
        "* Pandas utiliza numpy, por lo que los `NaN` se manejan como un tipo de dato especial que no es ni valor ni texto.\n",
        "* Los `NaN` además son un sub-tipo float por lo que al aplicar .info() a una columna con datos de este tipo veremos que la columna se marca como tipo float."
      ],
      "metadata": {
        "id": "UEEHSB36On0S"
      }
    },
    {
      "cell_type": "code",
      "execution_count": null,
      "metadata": {
        "id": "sf-psJ9ROjuL"
      },
      "outputs": [],
      "source": [
        "#Creamos un dataframe pequeño donde forzamos la creación de alguno NaN.\n",
        "import pandas as pd\n",
        "import numpy as np\n",
        "\n",
        "#Creamos un dataframe donde forzamos algunos valores faltantes.\n",
        "datos = {'Nombre': ['Juan', 'María', 'Carlos', 'Isa', 'Carla', 'Ana', 'Pedro', 'Laura'],\n",
        "         'Edad': [25, 30, 22, np.nan, 45, 28, 33, np.nan],\n",
        "         'Sexo': ['M', 'F', 'M', 'F', 'F', 'F', 'M', 'F'],\n",
        "         'Altura': [175, 160, np.nan, 165, 170, np.nan, 180, 155]}\n",
        "#Convertimos en df.\n",
        "df = pd.DataFrame(datos)\n",
        "#Revisamos el df.\n",
        "df.head()"
      ]
    },
    {
      "cell_type": "markdown",
      "source": [
        "##Identificar valores faltantes"
      ],
      "metadata": {
        "id": "6-IKDmJvTvV5"
      }
    },
    {
      "cell_type": "code",
      "source": [
        "#Como vemos con .info() las columas con NaN se muestran con el tipo float.\n",
        "df.info()"
      ],
      "metadata": {
        "id": "wTkTeAw6S_C3"
      },
      "execution_count": null,
      "outputs": []
    },
    {
      "cell_type": "code",
      "source": [
        "#.isna() nos muestra con booleanos los datos faltantes.\n",
        "df.isna()"
      ],
      "metadata": {
        "id": "PUbYnZoOTPRy"
      },
      "execution_count": null,
      "outputs": []
    },
    {
      "cell_type": "code",
      "source": [
        "#Si usamos esto junto con .sum() podremos ver los NaN por columna.\n",
        "df.isna().sum()"
      ],
      "metadata": {
        "id": "AqqLM2fHTR5R"
      },
      "execution_count": null,
      "outputs": []
    },
    {
      "cell_type": "markdown",
      "source": [
        "##Manejas valores faltantes\n",
        "\n",
        "Sea cual sea el caso podemos decidir hacer  3 cosas con los `NaN` en un df.\n",
        "\n",
        "* Eliminar las columna con `NaN`.\n",
        "* Eliminar las filas con `NaN`.\n",
        "* Reemplazar los `NaN` con otros valores."
      ],
      "metadata": {
        "id": "knHLSvTCTsGG"
      }
    },
    {
      "cell_type": "markdown",
      "source": [
        "##Eliminar filas con NaN\n",
        "Si tenemos pocos datos NaN en comparación al total de filas con datos completos a veces lo más práctico para evitar sesgar nuestros datos es eliminar dichas filas y trabajar con lo datos completos con los que contamos."
      ],
      "metadata": {
        "id": "jZ_gtZV_UY4Z"
      }
    },
    {
      "cell_type": "code",
      "source": [
        "#La funcion dropna elimina los datos faltantes.\n",
        "#El parametro inplace=True especifica que se ejecute en el mismo df y así no es necesario guardar el resultado en otra variable.\n",
        "df.dropna(inplace=True)\n",
        "df.head()"
      ],
      "metadata": {
        "id": "YN2yVgexUQMd"
      },
      "execution_count": null,
      "outputs": []
    },
    {
      "cell_type": "code",
      "source": [
        "#Ya que no quedan datos NaN, forzamos la creación de otros nuevos.\n",
        "df.loc[[1, 4], ['Sexo']] = np.nan\n",
        "df.loc[6, ['Nombre']] = np.nan\n",
        "df.head()"
      ],
      "metadata": {
        "id": "C4iRfY7wVItS"
      },
      "execution_count": null,
      "outputs": []
    },
    {
      "cell_type": "code",
      "source": [
        "#Podemos selccionar en que columas se buscan los NaN para eliminar las filas.\n",
        "df.dropna(subset=['Nombre'], inplace=True)\n",
        "df.head()"
      ],
      "metadata": {
        "id": "-d3DSLcxLwyC"
      },
      "execution_count": null,
      "outputs": []
    },
    {
      "cell_type": "markdown",
      "source": [
        "#Eliminar columnas con NaN\n",
        "Esta es una decisión más agresiva ya que perdemos una característica de todas nuestras filas, pero la podemos tomar si existen muchos datos faltantes de dicha columna."
      ],
      "metadata": {
        "id": "tC69h9OITmuQ"
      }
    },
    {
      "cell_type": "code",
      "source": [
        "#Creamos un dataframe donde forzamos algunos valores faltantes.\n",
        "data = {'Nombre': ['Juan', 'María', 'Carlos', 'Isa', 'Carla', 'Ana', 'Pedro', 'Laura'],\n",
        "         'Edad': [np.nan, np.nan, 22, np.nan, 45, np.nan, 33, np.nan],\n",
        "         'Sexo': [np.nan, 'F', np.nan, np.nan, np.nan, 'F', np.nan, np.nan],\n",
        "         'Altura': [175, 160, 161, 165, 170, 175, 180, 155]}\n",
        "df = pd.DataFrame(data)\n",
        "df"
      ],
      "metadata": {
        "id": "eWEgKRiBTgeV"
      },
      "execution_count": null,
      "outputs": []
    },
    {
      "cell_type": "code",
      "source": [
        "#Eliminamos la columna Edad.\n",
        "df.drop(columns='Edad', inplace=True)\n",
        "df"
      ],
      "metadata": {
        "id": "cKPTje6HUCOg"
      },
      "execution_count": null,
      "outputs": []
    },
    {
      "cell_type": "code",
      "source": [
        "#Usando axis=1 especificamos que la operacion se hace en toda la columna; axis= 0 (default), para filas.\n",
        "df.dropna(axis=1, inplace=True)\n",
        "df"
      ],
      "metadata": {
        "id": "Jmvvwk-vU2FV"
      },
      "execution_count": null,
      "outputs": []
    },
    {
      "cell_type": "code",
      "source": [
        "#Podemos usar el parametro tresh para especificar el numero de datos existentes para que la columna no se borre.\n",
        "data = {'Nombre': ['Juan', 'María', 'Carlos', 'Isa', 'Carla', 'Ana', 'Pedro', 'Laura'],\n",
        "         'Edad': [np.nan, np.nan, 23, 50, 45, np.nan, 33, np.nan],\n",
        "         'Sexo': ['M', 'F', 'M', 'F', 'F', 'F', np.nan, 'F'],\n",
        "         'Altura': [175, 160, 161, 165, 170, 175, 180, 155]}\n",
        "df = pd.DataFrame(data)\n",
        "df.dropna(axis=1, thresh=5, inplace=True)\n",
        "df"
      ],
      "metadata": {
        "id": "5L7D_4OBL3ke"
      },
      "execution_count": null,
      "outputs": []
    },
    {
      "cell_type": "markdown",
      "source": [
        "#Reemplazar valores faltantes\n",
        "Estas en la decisión más compleja ya que debemos usar la forma adecuada para obtener un proxy de los datos faltantes y no siempre va a ser la misma forma en cada columna de un dataset."
      ],
      "metadata": {
        "id": "xB4ZtuSmOvHr"
      }
    },
    {
      "cell_type": "code",
      "source": [
        "data = {'Nombre': ['Juan', 'María', 'Carlos', 'Isa', 'Carla', 'Ana', 'Pedro', 'Laura'],\n",
        "         'Edad': [np.nan, np.nan, 23, 50, 45, np.nan, 33, np.nan],\n",
        "         'Sexo': ['M', 'F', 'M', 'F', 'F', 'F', np.nan, 'F'],\n",
        "         'Altura': [175, 160, 161, 165, 170, 175, 180, 155]}\n",
        "df = pd.DataFrame(data)"
      ],
      "metadata": {
        "id": "eF_xraSVPvTP"
      },
      "execution_count": null,
      "outputs": []
    },
    {
      "cell_type": "code",
      "source": [
        "#Rellenando por un string\n",
        "df['Sexo'].fillna('Missing', inplace=True)\n",
        "df"
      ],
      "metadata": {
        "id": "Tspr_TF5OyWB"
      },
      "execution_count": null,
      "outputs": []
    },
    {
      "cell_type": "code",
      "source": [
        "data = {'Nombre': ['Juan', 'María', 'Carlos', 'Isa', 'Carla', 'Ana', 'Pedro', 'Laura'],\n",
        "         'Edad': [np.nan, np.nan, 23, 50, 45, np.nan, 33, np.nan],\n",
        "         'Sexo': ['M', 'F', 'M', 'F', 'F', 'F', np.nan, 'F'],\n",
        "         'Altura': [175, 160, 161, 165, 170, 175, 180, 155]}\n",
        "df = pd.DataFrame(data)"
      ],
      "metadata": {
        "id": "i0y3Ug52Bkoc"
      },
      "execution_count": null,
      "outputs": []
    },
    {
      "cell_type": "code",
      "source": [
        "#Rellenando con un promedio\n",
        "mean_edad = df['Edad'].mean()\n",
        "df['Edad'].fillna(mean_edad, inplace=True)\n",
        "df"
      ],
      "metadata": {
        "id": "XjGa6HruCbU5"
      },
      "execution_count": null,
      "outputs": []
    },
    {
      "cell_type": "markdown",
      "source": [
        "Usando esta linea podemos tambien rellenar con la mediana .median(), con la moda .mode(), etc."
      ],
      "metadata": {
        "id": "SJlGhgMpDXTx"
      }
    }
  ]
}