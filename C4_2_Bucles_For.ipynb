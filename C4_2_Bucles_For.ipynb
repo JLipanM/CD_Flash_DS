{
  "nbformat": 4,
  "nbformat_minor": 0,
  "metadata": {
    "colab": {
      "provenance": [],
      "authorship_tag": "ABX9TyPs9CPFvDMhdV5+n4+56f/m",
      "include_colab_link": true
    },
    "kernelspec": {
      "name": "python3",
      "display_name": "Python 3"
    },
    "language_info": {
      "name": "python"
    }
  },
  "cells": [
    {
      "cell_type": "markdown",
      "metadata": {
        "id": "view-in-github",
        "colab_type": "text"
      },
      "source": [
        "<a href=\"https://colab.research.google.com/github/Markohf/CD_Flash_DS/blob/main/C4_2_Bucles_For.ipynb\" target=\"_parent\"><img src=\"https://colab.research.google.com/assets/colab-badge.svg\" alt=\"Open In Colab\"/></a>"
      ]
    },
    {
      "cell_type": "markdown",
      "source": [
        "# For\n",
        "\n",
        "Los bucles son de las herramientas más usadas en la programación, nos permiten repetir una acción mientras se cumpla una condición definida. Existen diversos tipos de ellos, pero en este curso nos centraremos en los bucles for."
      ],
      "metadata": {
        "id": "3wfJfvauiXz3"
      }
    },
    {
      "cell_type": "code",
      "execution_count": null,
      "metadata": {
        "id": "5xsfzo4niUao"
      },
      "outputs": [],
      "source": [
        "#Ejemplo\n",
        "text = \"Hola\"\n",
        "for x in text:\n",
        "  print(x)"
      ]
    },
    {
      "cell_type": "code",
      "source": [
        "#Ejemplo\n",
        "text = \"Hola\"\n",
        "for x in text:\n",
        "  print(text)"
      ],
      "metadata": {
        "id": "GDAXPJS5k6wF"
      },
      "execution_count": null,
      "outputs": []
    },
    {
      "cell_type": "markdown",
      "source": [
        "Una forma fácil y rapida de usar for es combinandolo con la función range que nos devuelve una seria de números."
      ],
      "metadata": {
        "id": "BjwyO_D1lFuS"
      }
    },
    {
      "cell_type": "code",
      "source": [
        "#Ejemplo. Usamos la función list junto con range para poder visualizar de mejor forma lo que genera range.\n",
        "list(range(1, 5))"
      ],
      "metadata": {
        "id": "VAFtF4GAlO5n"
      },
      "execution_count": null,
      "outputs": []
    },
    {
      "cell_type": "code",
      "source": [
        "#Ahora combinamos con for.\n",
        "for x in range(1, 10):\n",
        "  print(x)"
      ],
      "metadata": {
        "id": "4X3Nzjegln7F"
      },
      "execution_count": null,
      "outputs": []
    },
    {
      "cell_type": "code",
      "source": [
        "#Range tiene más paramentros que podemos usar.\n",
        "for x in range(1, 10, 2):\n",
        "  print(x)"
      ],
      "metadata": {
        "id": "cOfZrlgRltQY"
      },
      "execution_count": null,
      "outputs": []
    },
    {
      "cell_type": "code",
      "source": [
        "#Podemos usar range de formas más creativas.\n",
        "for x in range(-1, -10, -1):\n",
        "  print(x)"
      ],
      "metadata": {
        "id": "pLfvxVxel0-U"
      },
      "execution_count": null,
      "outputs": []
    },
    {
      "cell_type": "code",
      "source": [
        "#Ahora combimaremos algunas cosas que hemos aprendido hasta ahora.\n",
        "dicc = {'v1': 25, 'v2': 35, 'v3': 47}\n",
        "for x in dicc:\n",
        "  print(dicc[x])"
      ],
      "metadata": {
        "id": "Uku-98Ugl5GA"
      },
      "execution_count": null,
      "outputs": []
    },
    {
      "cell_type": "code",
      "source": [
        "dicc = {'v1': 25, 'v2': 35, 'v3': 47}\n",
        "for x in dicc:\n",
        "  if dicc[x] > 40:\n",
        "    print('key: ', x, ', value: ', dicc[x])\n",
        "  else:\n",
        "    print('na')"
      ],
      "metadata": {
        "id": "UVMwNR7xmfza"
      },
      "execution_count": null,
      "outputs": []
    },
    {
      "cell_type": "code",
      "source": [
        "list = [1, 'a', 3, (10, 45)]\n",
        "for x in range(len(list)):\n",
        "  print(list[x])"
      ],
      "metadata": {
        "id": "v-E0noo3myqd"
      },
      "execution_count": null,
      "outputs": []
    }
  ]
}