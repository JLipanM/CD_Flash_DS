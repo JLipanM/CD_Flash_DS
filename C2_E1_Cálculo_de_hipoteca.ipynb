{
  "nbformat": 4,
  "nbformat_minor": 0,
  "metadata": {
    "colab": {
      "provenance": [],
      "authorship_tag": "ABX9TyPEqegzj/J0n58kvt8C1qKS",
      "include_colab_link": true
    },
    "kernelspec": {
      "name": "python3",
      "display_name": "Python 3"
    },
    "language_info": {
      "name": "python"
    }
  },
  "cells": [
    {
      "cell_type": "markdown",
      "metadata": {
        "id": "view-in-github",
        "colab_type": "text"
      },
      "source": [
        "<a href=\"https://colab.research.google.com/github/Markohf/CD_Flash_DS/blob/main/C2_E1_C%C3%A1lculo_de_hipoteca.ipynb\" target=\"_parent\"><img src=\"https://colab.research.google.com/assets/colab-badge.svg\" alt=\"Open In Colab\"/></a>"
      ]
    },
    {
      "cell_type": "markdown",
      "source": [
        "## Ejercicio\n",
        "\n",
        "En el pasado, cuando sólo había hipotecas de tasa fija y sin puntos, el cálculo de cuánto sería el pago de hipoteca por mes era por lo general relativamente simple. Una persona podía pedir prestado dinero de una institución financiera y realizar un pago fijo cada mes durante el plazo de la hipoteca que variaba entre 15 a 30 años. Es posible calcular el pago mensual para una hipoteca de tasa fija sin puntos usando la fórmula de la Cuota Mensual Constante (EMI, por sus siglas en inglés):\n",
        "\n",
        "![EMI](https://assets.codingdojo.com/boomyeah2015/codingdojo/curriculum/content/chapter/EMI_formula.png)\n",
        "\n",
        "1) ¿De cuánto será el pago mensual de una hipoteca a 30 años (30 * 12 = 360 meses de plazo) con un capital de 400.000 dólares y un 3 % TAE (tasa de interés con comisiones incluidas)?\n",
        "\n",
        "2) ¿Cuánto será el pago mensual si la tasa de interés es del 6 %? (utiliza la misma duración del plazo y el mismo principio)"
      ],
      "metadata": {
        "id": "Z7SuJhZipw1n"
      }
    },
    {
      "cell_type": "code",
      "source": [
        "#Pregunta 1\n",
        "P = 400000\n",
        "r = 0.03/12\n",
        "n = 360\n",
        "P*((r*((1+r)**n))/(((1+r)**n)-1))"
      ],
      "metadata": {
        "id": "_Ndfv1DhuSDo"
      },
      "execution_count": null,
      "outputs": []
    },
    {
      "cell_type": "code",
      "source": [
        "#Pregunta 2\n",
        "r = 0.06/12\n",
        "P*((r*((1+r)**n))/(((1+r)**n)-1))"
      ],
      "metadata": {
        "id": "7v6_r7GFyAvJ"
      },
      "execution_count": null,
      "outputs": []
    }
  ]
}