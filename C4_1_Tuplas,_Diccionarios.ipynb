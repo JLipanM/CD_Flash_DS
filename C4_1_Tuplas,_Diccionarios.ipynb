{
  "nbformat": 4,
  "nbformat_minor": 0,
  "metadata": {
    "colab": {
      "provenance": [],
      "authorship_tag": "ABX9TyMWaHnTz5PYfrqDsmqAXBAR",
      "include_colab_link": true
    },
    "kernelspec": {
      "name": "python3",
      "display_name": "Python 3"
    },
    "language_info": {
      "name": "python"
    }
  },
  "cells": [
    {
      "cell_type": "markdown",
      "metadata": {
        "id": "view-in-github",
        "colab_type": "text"
      },
      "source": [
        "<a href=\"https://colab.research.google.com/github/Markohf/CD_Flash_DS/blob/main/C4_1_Tuplas%2C_Diccionarios.ipynb\" target=\"_parent\"><img src=\"https://colab.research.google.com/assets/colab-badge.svg\" alt=\"Open In Colab\"/></a>"
      ]
    },
    {
      "cell_type": "markdown",
      "source": [
        "# Tuplas\n",
        "\n",
        "Las tuplas son estructuras de datos similares a las listas con la diferencia de que son inmutables; es decir, una vez que la tuplas se crea no se puede modificar su contenido.\n",
        "\n",
        "\n",
        "Existen 2 formas de crear tuplas:"
      ],
      "metadata": {
        "id": "Gpyv6NPwXu4u"
      }
    },
    {
      "cell_type": "code",
      "execution_count": null,
      "metadata": {
        "id": "sIKFiwexXkfC"
      },
      "outputs": [],
      "source": [
        "#Forma 1.\n",
        "tupla1 = (1, 2, 'a')\n",
        "print(type(tupla1))"
      ]
    },
    {
      "cell_type": "code",
      "source": [
        "#Forma 2.\n",
        "tupla2 = 1, 2, 'a'\n",
        "print(type(tupla2))"
      ],
      "metadata": {
        "id": "QMTT1xc7Y4k_"
      },
      "execution_count": null,
      "outputs": []
    },
    {
      "cell_type": "code",
      "source": [
        "#Por sintaxis, para crear una tupla de un solo valor se necesita agregar una coma final.\n",
        "tupla1 = (1,)\n",
        "tupla2 = 54,\n",
        "print(tupla1)\n",
        "print(type(tupla1))\n",
        "print(tupla2)\n",
        "print(type(tupla2))"
      ],
      "metadata": {
        "id": "-bIL_D69ZFjN"
      },
      "execution_count": null,
      "outputs": []
    },
    {
      "cell_type": "code",
      "source": [
        "#Nota la diferencia al no poner ','.\n",
        "tupla1 = (1)\n",
        "tupla2 = 54\n",
        "print(tupla1)\n",
        "print(type(tupla1))\n",
        "print(tupla2)\n",
        "print(type(tupla2))"
      ],
      "metadata": {
        "id": "4yyXUU_mZcLf"
      },
      "execution_count": null,
      "outputs": []
    },
    {
      "cell_type": "markdown",
      "source": [
        "Podemos acceder a los datos de las tuplas de la misma forma en la que lo hacemos con las listas."
      ],
      "metadata": {
        "id": "o38W8TEJaIak"
      }
    },
    {
      "cell_type": "code",
      "source": [
        "#Ejemplos\n",
        "tupla = (1 , 2, 'Hola', [1, 2], (3, 4))\n",
        "print(tupla[0])\n",
        "print(tupla[-1])\n",
        "print(tupla[2:4])"
      ],
      "metadata": {
        "id": "93bGjxLPaN1Y"
      },
      "execution_count": null,
      "outputs": []
    },
    {
      "cell_type": "markdown",
      "source": [
        "Como comentamos antes es imposible modificar los datos de una tupla."
      ],
      "metadata": {
        "id": "siJWEiPaamJk"
      }
    },
    {
      "cell_type": "code",
      "source": [
        "#Ejemplos\n",
        "tupla[2] = \"Chau\""
      ],
      "metadata": {
        "id": "Njek01Caapsz"
      },
      "execution_count": null,
      "outputs": []
    },
    {
      "cell_type": "markdown",
      "source": [
        "Al igual que las listas las tuplas tambien tienen métodos."
      ],
      "metadata": {
        "id": "j2BtKAnLcQsZ"
      }
    },
    {
      "cell_type": "code",
      "source": [
        "#Ejemplos\n",
        "print(tupla.index('Hola'))\n",
        "print(tupla.count('Hola'))"
      ],
      "metadata": {
        "id": "TtmDHl85cWqV"
      },
      "execution_count": null,
      "outputs": []
    },
    {
      "cell_type": "markdown",
      "source": [
        "## Empaquetado y desempaquetado de tuplas"
      ],
      "metadata": {
        "id": "cAnIIfVsbPwL"
      }
    },
    {
      "cell_type": "code",
      "source": [
        "#Empaquetar una tupla es lo mismo que crear una tupla.\n",
        "tupla = 1, 2, ['a', 'b']"
      ],
      "metadata": {
        "id": "3571lBhxayoQ"
      },
      "execution_count": null,
      "outputs": []
    },
    {
      "cell_type": "code",
      "source": [
        "#Desempaquetar una tupla significa extraer sus elementos y asignarlos a variables individuales.\n",
        "a, b, c = tupla\n",
        "print(a)\n",
        "print(b)\n",
        "print(c)"
      ],
      "metadata": {
        "id": "efgD-S1Zbpg9"
      },
      "execution_count": null,
      "outputs": []
    },
    {
      "cell_type": "markdown",
      "source": [
        "# Diccionarios\n",
        "\n",
        "Los diccionarios son estructuras de datos que nos permiten almacenar información con la peculiaridad de tener 2 tipos de elementos:\n",
        "\n",
        "* Clave: puede ser cualquier valor inmutable como ints, strings, tuplas, etc.\n",
        "* Valores: puede ser cualquier valor mutable o inmutable."
      ],
      "metadata": {
        "id": "QapwQDKsdMIb"
      }
    },
    {
      "cell_type": "code",
      "source": [
        "#Cremos un diccionario.\n",
        "dicc = {'v1': 25, 'v2': 35, 'v3': 47}\n",
        "print(dicc)"
      ],
      "metadata": {
        "id": "13KiVzpydSrL"
      },
      "execution_count": null,
      "outputs": []
    },
    {
      "cell_type": "code",
      "source": [
        "#En los diccionarios las claves se comportan como los índices en las listas y tuplas por lo que podemos usarlas para acceder a nuestros datos.\n",
        "print(dicc['v1'])"
      ],
      "metadata": {
        "id": "Erz-xTTiaSaQ"
      },
      "execution_count": null,
      "outputs": []
    },
    {
      "cell_type": "code",
      "source": [
        "#Podemos modificar los valores en los diccionarios, pero no las claves.\n",
        "dicc['v1'] = 125\n",
        "print(dicc['v1'])"
      ],
      "metadata": {
        "id": "b67fVFMlax2t"
      },
      "execution_count": null,
      "outputs": []
    },
    {
      "cell_type": "code",
      "source": [
        "#Tambien podemos agregar nuevas claves con su respectivo valor.\n",
        "dicc['v4'] = 1458\n",
        "print(dicc)"
      ],
      "metadata": {
        "id": "_u6DN_ombaKP"
      },
      "execution_count": null,
      "outputs": []
    },
    {
      "cell_type": "markdown",
      "source": [
        "## Métodos\n",
        "\n",
        "Al igual que vimos con las listas y las tuplas, los diccionarios tienen métodos que podemos utilizar."
      ],
      "metadata": {
        "id": "LeGZjMfff_7S"
      }
    },
    {
      "cell_type": "code",
      "source": [
        "#El método update nos permite actualizar el valor de varias claves a la vez.\n",
        "dicc.update({'v1': 0, 'v4': -48})\n",
        "print(dicc)"
      ],
      "metadata": {
        "id": "eg60YqYzgHPC"
      },
      "execution_count": null,
      "outputs": []
    },
    {
      "cell_type": "code",
      "source": [
        "#El método pop elimina una clave y nos devuelve su valor.\n",
        "dicc.pop('v4')"
      ],
      "metadata": {
        "id": "HwTmBFg7gZPL"
      },
      "execution_count": null,
      "outputs": []
    },
    {
      "cell_type": "code",
      "source": [
        "print(dicc)"
      ],
      "metadata": {
        "id": "JBcq4EC-gtxC"
      },
      "execution_count": null,
      "outputs": []
    },
    {
      "cell_type": "code",
      "source": [
        "#Los método keys y values devuelven las claves y los valores del diccionario.\n",
        "print(dicc.keys())\n",
        "print(dicc.values())"
      ],
      "metadata": {
        "id": "b2wtNZ_Rg-Q3"
      },
      "execution_count": null,
      "outputs": []
    },
    {
      "cell_type": "code",
      "source": [
        "#En este curso usaremos estos 2 métodos junto con la función lista para usar los keys y values como listas.\n",
        "key_list = list(dicc.keys())\n",
        "values_list = list(dicc.values())\n",
        "print(key_list)\n",
        "print(values_list)"
      ],
      "metadata": {
        "id": "Llm8gUu_hLw2"
      },
      "execution_count": null,
      "outputs": []
    },
    {
      "cell_type": "code",
      "source": [
        "#En este curso tambien será útil el metodo items junto con la función lista.\n",
        "dicc.items()"
      ],
      "metadata": {
        "id": "9TinMswjhkVS"
      },
      "execution_count": null,
      "outputs": []
    },
    {
      "cell_type": "code",
      "source": [
        "pair_list = list(dicc.items())\n",
        "print(pair_list)"
      ],
      "metadata": {
        "id": "9CF10Rgah3Iw"
      },
      "execution_count": null,
      "outputs": []
    }
  ]
}