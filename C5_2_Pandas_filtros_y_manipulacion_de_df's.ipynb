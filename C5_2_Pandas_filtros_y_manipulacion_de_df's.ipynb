{
  "nbformat": 4,
  "nbformat_minor": 0,
  "metadata": {
    "colab": {
      "provenance": [],
      "authorship_tag": "ABX9TyMlwB4oY3n9uvkSxiw1hSnP",
      "include_colab_link": true
    },
    "kernelspec": {
      "name": "python3",
      "display_name": "Python 3"
    },
    "language_info": {
      "name": "python"
    }
  },
  "cells": [
    {
      "cell_type": "markdown",
      "metadata": {
        "id": "view-in-github",
        "colab_type": "text"
      },
      "source": [
        "<a href=\"https://colab.research.google.com/github/Markohf/CD_Flash_DS/blob/main/C5_2_Pandas_filtros_y_manipulacion_de_df's.ipynb\" target=\"_parent\"><img src=\"https://colab.research.google.com/assets/colab-badge.svg\" alt=\"Open In Colab\"/></a>"
      ]
    },
    {
      "cell_type": "code",
      "execution_count": null,
      "metadata": {
        "id": "FNhP2aZwpzZJ"
      },
      "outputs": [],
      "source": [
        "#Montamos drive.\n",
        "from google.colab import drive\n",
        "drive.mount('/content/drive')"
      ]
    },
    {
      "cell_type": "code",
      "source": [
        "import pandas as pd"
      ],
      "metadata": {
        "id": "UPssmdEVqqgh"
      },
      "execution_count": null,
      "outputs": []
    },
    {
      "cell_type": "code",
      "source": [
        "filename = '/content/drive/MyDrive/Flashcamp - Data Science/BBDD/mortgages.csv'\n",
        "df = pd.read_csv(filename)\n",
        "df.head()"
      ],
      "metadata": {
        "id": "Bw-38QhJqNyS"
      },
      "execution_count": null,
      "outputs": []
    },
    {
      "cell_type": "code",
      "source": [
        "#El metodo value_counts nos permite ver los valores y cauntas veces aparecen en las columnas.\n",
        "df['Mortgage Name'].value_counts()"
      ],
      "metadata": {
        "id": "Kxx_EjtGqtEz"
      },
      "execution_count": null,
      "outputs": []
    },
    {
      "cell_type": "code",
      "source": [
        "#Podemos filtrar usando variables.\n",
        "filtro1 = df['Mortgage Name'] == '30 Year'\n",
        "df[filtro1]"
      ],
      "metadata": {
        "id": "8lmniZ5ErM5X"
      },
      "execution_count": null,
      "outputs": []
    },
    {
      "cell_type": "code",
      "source": [
        "#Notese que el filtrar genera una serie de boleanos.\n",
        "filtro1 = df['Mortgage Name'] == '30 Year'\n",
        "print(filtro1)"
      ],
      "metadata": {
        "id": "05YhjUBprWns"
      },
      "execution_count": null,
      "outputs": []
    },
    {
      "cell_type": "code",
      "source": [
        "#Podemos hacer lo mismo usando el metodo loc.\n",
        "filtro1 = df['Mortgage Name'] == '30 Year'\n",
        "df.loc[filtro1, :].head()"
      ],
      "metadata": {
        "id": "gGSIQAl4ry8f"
      },
      "execution_count": null,
      "outputs": []
    },
    {
      "cell_type": "code",
      "source": [
        "#Tambien podemos usar >, <, y los diferentes valores condicionales para filtrar.\n",
        "filtro1 = df['Starting Balance'] > 399000\n",
        "df.loc[filtro1, :].head()"
      ],
      "metadata": {
        "id": "Gn4B0Oo6sRun"
      },
      "execution_count": null,
      "outputs": []
    },
    {
      "cell_type": "code",
      "source": [
        "#Tambien podemos combinar filtros para hacer busquedas especificas.\n",
        "df[(df['Starting Balance'] > 399000) & (df['Interest Paid'] > 995)]"
      ],
      "metadata": {
        "id": "w_sqSbQitMNw"
      },
      "execution_count": null,
      "outputs": []
    },
    {
      "cell_type": "markdown",
      "source": [
        "Podemos combinar filtros usando estos simbolos:\n",
        "\n",
        "* '&': y\n",
        "* '|': o\n",
        "* '^': o exclusivo\n",
        "* '~': no"
      ],
      "metadata": {
        "id": "pNnnHdsyud7X"
      }
    },
    {
      "cell_type": "code",
      "source": [
        "#Tal vez la combinacion mas confusa sea '^' por lo que aqui damos un ejemplo.\n",
        "#Creamos un df ejemplo.\n",
        "data = {'Nombre': ['Juan', 'Ana', 'Pedro', 'Andrea'],\n",
        "        'Edad': [25, 30, 22, 35],\n",
        "        'Sexo': ['M', 'F', 'M', 'F']}\n",
        "df = pd.DataFrame(data)\n",
        "#Guardamos nuestros filtros en variables.\n",
        "fil1 = df['Edad'] > 30\n",
        "fil2 = df['Sexo'] == 'F'\n",
        "#Filtramos.\n",
        "df[fil1 ^ fil2]"
      ],
      "metadata": {
        "id": "q-6mNCd_u0h7"
      },
      "execution_count": null,
      "outputs": []
    }
  ]
}