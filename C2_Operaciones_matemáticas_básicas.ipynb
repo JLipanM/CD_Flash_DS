{
  "nbformat": 4,
  "nbformat_minor": 0,
  "metadata": {
    "colab": {
      "provenance": [],
      "authorship_tag": "ABX9TyNy6Bi/17Ae6Z518mrWVsIg",
      "include_colab_link": true
    },
    "kernelspec": {
      "name": "python3",
      "display_name": "Python 3"
    },
    "language_info": {
      "name": "python"
    }
  },
  "cells": [
    {
      "cell_type": "markdown",
      "metadata": {
        "id": "view-in-github",
        "colab_type": "text"
      },
      "source": [
        "<a href=\"https://colab.research.google.com/github/Markohf/CD_Flash_DS/blob/main/C2_Operaciones_matem%C3%A1ticas_b%C3%A1sicas.ipynb\" target=\"_parent\"><img src=\"https://colab.research.google.com/assets/colab-badge.svg\" alt=\"Open In Colab\"/></a>"
      ]
    },
    {
      "cell_type": "markdown",
      "source": [
        "# Matemáticas simples, Booleanos y lógica condicional"
      ],
      "metadata": {
        "id": "YV4OowyRyubj"
      }
    },
    {
      "cell_type": "markdown",
      "source": [
        "## Operaciones simples"
      ],
      "metadata": {
        "id": "UEFn7WXzo6m8"
      }
    },
    {
      "cell_type": "code",
      "execution_count": null,
      "metadata": {
        "id": "f2pJzJmWyc-F"
      },
      "outputs": [],
      "source": [
        "#Suma\n",
        "3+5"
      ]
    },
    {
      "cell_type": "code",
      "source": [
        "#Resta\n",
        "5-3"
      ],
      "metadata": {
        "id": "CPUAMAxxnY0z"
      },
      "execution_count": null,
      "outputs": []
    },
    {
      "cell_type": "code",
      "source": [
        "#Multiplicación\n",
        "8*2"
      ],
      "metadata": {
        "id": "u7SQTathncRV"
      },
      "execution_count": null,
      "outputs": []
    },
    {
      "cell_type": "code",
      "source": [
        "#Division\n",
        "8/2"
      ],
      "metadata": {
        "id": "c21bQk_0nh0y"
      },
      "execution_count": null,
      "outputs": []
    },
    {
      "cell_type": "code",
      "source": [
        "#Residuo/resto/módulo\n",
        "8%3"
      ],
      "metadata": {
        "id": "fE3YIhSHnoDg"
      },
      "execution_count": null,
      "outputs": []
    },
    {
      "cell_type": "code",
      "source": [
        "#Potencia\n",
        "2**3"
      ],
      "metadata": {
        "id": "ryjTf1EFnvfG"
      },
      "execution_count": null,
      "outputs": []
    },
    {
      "cell_type": "code",
      "source": [
        "#Raíz\n",
        "25**(1/2)"
      ],
      "metadata": {
        "id": "LWm_KHtMoZfc"
      },
      "execution_count": null,
      "outputs": []
    },
    {
      "cell_type": "code",
      "source": [
        "#Cuidado con los paréntesis\n",
        "25**1/2"
      ],
      "metadata": {
        "id": "wDkj_1_Poe0f"
      },
      "execution_count": null,
      "outputs": []
    },
    {
      "cell_type": "code",
      "source": [
        "#Podemos usar variables para eso tambien\n",
        "a = 2\n",
        "b = 3\n",
        "print(a + b)\n",
        "print(a * b)"
      ],
      "metadata": {
        "id": "knMv6TGGpNmx"
      },
      "execution_count": null,
      "outputs": []
    },
    {
      "cell_type": "code",
      "source": [
        "#Tambien podemos guardar los resultados en variables\n",
        "x = a + b\n",
        "y = a * b\n",
        "print(x)\n",
        "print(y)"
      ],
      "metadata": {
        "id": "Kz1dnRBxysiJ"
      },
      "execution_count": null,
      "outputs": []
    },
    {
      "cell_type": "markdown",
      "source": [
        "## Booleanos y lógica condicional"
      ],
      "metadata": {
        "id": "HfNGijhyy_1z"
      }
    },
    {
      "cell_type": "code",
      "source": [
        "#Igual que\n",
        "a = 1\n",
        "b = 1\n",
        "a == b"
      ],
      "metadata": {
        "id": "jufRjWA50Ib_"
      },
      "execution_count": null,
      "outputs": []
    },
    {
      "cell_type": "code",
      "source": [
        "b = 2\n",
        "a == b"
      ],
      "metadata": {
        "id": "evsCdrxi0O1-"
      },
      "execution_count": null,
      "outputs": []
    },
    {
      "cell_type": "code",
      "source": [
        "a = 8 - 5\n",
        "b = 13 - 10\n",
        "a == b"
      ],
      "metadata": {
        "id": "O6c03BzC0Rme"
      },
      "execution_count": null,
      "outputs": []
    },
    {
      "cell_type": "code",
      "source": [
        "#Mayor que\n",
        "1 > 2"
      ],
      "metadata": {
        "id": "RPqbQsUn0ln2"
      },
      "execution_count": null,
      "outputs": []
    },
    {
      "cell_type": "code",
      "source": [
        "#Menor que\n",
        "1 < 2"
      ],
      "metadata": {
        "id": "I-lYQq-R04pj"
      },
      "execution_count": null,
      "outputs": []
    },
    {
      "cell_type": "code",
      "source": [
        "#Mayor o igual que\n",
        "1 >= 2"
      ],
      "metadata": {
        "id": "Q16A8arF1Bdq"
      },
      "execution_count": null,
      "outputs": []
    },
    {
      "cell_type": "code",
      "source": [
        "#Menor o igual que\n",
        "2 <= 2"
      ],
      "metadata": {
        "id": "ZhreECBC1BjD"
      },
      "execution_count": null,
      "outputs": []
    },
    {
      "cell_type": "code",
      "source": [
        "#Diferente que\n",
        "5 != 5"
      ],
      "metadata": {
        "id": "vCQHfUn11QJ2"
      },
      "execution_count": null,
      "outputs": []
    },
    {
      "cell_type": "code",
      "source": [
        "#La logica tambien se puede usar de cierta forma con strings u otros tipos de datos que no son integers\n",
        "a = \"Hola\"\n",
        "b = \"Hola\"\n",
        "val1 = a != b\n",
        "val2 = a == b\n",
        "print(val1)\n",
        "print(val2)"
      ],
      "metadata": {
        "id": "dAtfBRhZ1dIZ"
      },
      "execution_count": null,
      "outputs": []
    },
    {
      "cell_type": "code",
      "source": [
        "#La logica tambien se puede usar de cierta forma con strings u otros tipos de datos que no son integers\n",
        "a = \"Hola, como estas?\"\n",
        "b = \"Hola\"\n",
        "val1 = a > b\n",
        "val2 = a < b\n",
        "print(val1)\n",
        "print(val2)"
      ],
      "metadata": {
        "id": "Z9hh7r2V14yW"
      },
      "execution_count": null,
      "outputs": []
    },
    {
      "cell_type": "markdown",
      "source": [
        "Es importante considerar que True equivale a 1 y False equivale a 0. Mira el siguiente ejemplo"
      ],
      "metadata": {
        "id": "Z75IhmpJ2YFd"
      }
    },
    {
      "cell_type": "code",
      "source": [
        "val1 = 1 + 1\n",
        "val2 = True + True + False\n",
        "val1 == val2"
      ],
      "metadata": {
        "id": "uR2Yzq4r2gsN"
      },
      "execution_count": null,
      "outputs": []
    },
    {
      "cell_type": "markdown",
      "source": [
        "## Función if\n",
        "\n",
        "If nos permite validar una condición y en respuesta nos dará un valor si la condición el verdadera u otro si la condicion es falsa."
      ],
      "metadata": {
        "id": "BtlaCEXY22P2"
      }
    },
    {
      "cell_type": "code",
      "source": [
        "a = 100\n",
        "b = 200"
      ],
      "metadata": {
        "id": "5NxgyCN83FVL"
      },
      "execution_count": null,
      "outputs": []
    },
    {
      "cell_type": "code",
      "source": [
        "if a == b:\n",
        "  print(\"son iguales\")\n",
        "else:\n",
        "  print(\"son diferentes\")"
      ],
      "metadata": {
        "id": "AvOJS_qY3OAe"
      },
      "execution_count": null,
      "outputs": []
    },
    {
      "cell_type": "markdown",
      "source": [
        "Podemos generar sentencias más complejas usando `and`, `or` y `not`."
      ],
      "metadata": {
        "id": "mMFZE-KW4G-r"
      }
    },
    {
      "cell_type": "code",
      "source": [
        "#Ejemplo usando and\n",
        "a = 8\n",
        "if (a > 0 and a < 10):\n",
        "  print(\"se cumple la condición\")\n",
        "else:\n",
        "  print(\"no se cumple la condición\")"
      ],
      "metadata": {
        "id": "FdVl0MBQ4REX"
      },
      "execution_count": null,
      "outputs": []
    },
    {
      "cell_type": "code",
      "source": [
        "#Ejemplo usando or\n",
        "a = 8\n",
        "if (a > 10 or a < 5):\n",
        "  print(\"se cumple la condición\")\n",
        "else:\n",
        "  print(\"no se cumple la condición\")"
      ],
      "metadata": {
        "id": "9jwcwoxk49TL"
      },
      "execution_count": null,
      "outputs": []
    },
    {
      "cell_type": "code",
      "source": [
        "#Ejemplo usando not\n",
        "a = 8\n",
        "if not (a > 0 and a < 10):\n",
        "  print(\"se cumple la condición\")\n",
        "else:\n",
        "  print(\"no se cumple la condición\")"
      ],
      "metadata": {
        "id": "UhehmowC4_iU"
      },
      "execution_count": null,
      "outputs": []
    },
    {
      "cell_type": "code",
      "source": [
        "#Otro ejemplo con not\n",
        "valor = False\n",
        "if not valor:\n",
        "    print(\"El valor es False\")\n",
        "else:\n",
        "    print(\"El valor es True\")\n"
      ],
      "metadata": {
        "id": "t4keXrBb5OEw"
      },
      "execution_count": null,
      "outputs": []
    },
    {
      "cell_type": "code",
      "source": [
        "#Notese la diferencia sin usar not con el ejemplo anterior\n",
        "valor = False\n",
        "if valor:\n",
        "    print(\"El valor es False\")\n",
        "else:\n",
        "    print(\"El valor es True\")"
      ],
      "metadata": {
        "id": "aPpkXkmk5aNU"
      },
      "execution_count": null,
      "outputs": []
    },
    {
      "cell_type": "markdown",
      "source": [
        "Finalmente podemos ampliar nuestras condiciones usando `elif`"
      ],
      "metadata": {
        "id": "Z2bBgbyFz81h"
      }
    },
    {
      "cell_type": "code",
      "source": [
        "num = 1\n",
        "if num == 1:\n",
        "  print(\"1\")\n",
        "elif (num >= 2 and num <= 5):\n",
        "  print(\"entre 2 y 5\")\n",
        "elif (num >= 6 and num <= 10):\n",
        "  print(\"entre 6 y 10\")\n",
        "else:\n",
        "  print(\"mayor que 10\")"
      ],
      "metadata": {
        "id": "BemQAe1O0AWi"
      },
      "execution_count": null,
      "outputs": []
    }
  ]
}