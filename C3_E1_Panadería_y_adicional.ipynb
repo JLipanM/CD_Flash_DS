{
  "nbformat": 4,
  "nbformat_minor": 0,
  "metadata": {
    "colab": {
      "provenance": [],
      "authorship_tag": "ABX9TyPNf3nnJyyER6bnkDE1bpri",
      "include_colab_link": true
    },
    "kernelspec": {
      "name": "python3",
      "display_name": "Python 3"
    },
    "language_info": {
      "name": "python"
    }
  },
  "cells": [
    {
      "cell_type": "markdown",
      "metadata": {
        "id": "view-in-github",
        "colab_type": "text"
      },
      "source": [
        "<a href=\"https://colab.research.google.com/github/Markohf/CD_Flash_DS/blob/main/C3_E1_Panader%C3%ADa_y_adicional.ipynb\" target=\"_parent\"><img src=\"https://colab.research.google.com/assets/colab-badge.svg\" alt=\"Open In Colab\"/></a>"
      ]
    },
    {
      "cell_type": "markdown",
      "source": [
        "# Ejercicio 1\n",
        "\n",
        "Este ejercicio se basa en los datos generados en el archivo C3.2. Introduccion a Numpy. Pondremos aqui los datos que necesitaras antes de comenzar el ejercicio:"
      ],
      "metadata": {
        "id": "jZJvX7erEO8z"
      }
    },
    {
      "cell_type": "code",
      "execution_count": null,
      "metadata": {
        "id": "dmRCXMZf1Yh1"
      },
      "outputs": [],
      "source": [
        "#importamos la librería.\n",
        "import numpy as np\n",
        "# precio del brownie, galleta y pastel.\n",
        "precio = np.array([2, 1, 10])\n",
        "# unidades vendidas de brownie, galleta y pastel.\n",
        "unidades = np.array([17, 40, 1])\n",
        "# costo por cada unidad de brownie, galleta y pastel.\n",
        "costo = np.array([0.25, 0.50, 5.00])"
      ]
    },
    {
      "cell_type": "markdown",
      "source": [
        "Ahora con los datos puestos ya podemos iniciar:\n",
        "\n",
        "Se han vendido 4 productos más según la siguiente información:\n",
        "\n",
        "* precio:\n",
        "  * tartas: 9\n",
        "  * bandejas de dulce: 5\n",
        "  * magdalenas: 1\n",
        "  * panes de plátano: 1\n",
        "* unidades:\n",
        "  * tartas: 20\n",
        "  * bandejas de dulce: 15\n",
        "  * magdalenas: 30\n",
        "  * panes de plátano: 25\n",
        "* costo:\n",
        "  * tartas: 4\n",
        "  * bandejas de dulce: 2.5\n",
        "  * magdalenas: 0.3\n",
        "  * panes de plátano: 0.4\n",
        "\n",
        "¿Cuanto será la ganancia con estos nuevos datos y cambios?"
      ],
      "metadata": {
        "id": "pvMeIlY4F7iC"
      }
    },
    {
      "cell_type": "code",
      "source": [
        "#Agregamos los datos a nuestros np.array.\n",
        "nprecio = np.append(precio, [9, 5, 1, 1])\n",
        "nunidades = np.append(unidades, [20, 15, 30, 25])\n",
        "ncosto = np.append(costo, [4, 2.5, 0.3, 0.4])\n",
        "print(nprecio)\n",
        "print(nunidades)\n",
        "print(ncosto)"
      ],
      "metadata": {
        "id": "GW18SNGFF6tH"
      },
      "execution_count": null,
      "outputs": []
    },
    {
      "cell_type": "code",
      "source": [
        "respuesta = (nprecio - ncosto) * nunidades\n",
        "print(respuesta.sum())"
      ],
      "metadata": {
        "id": "KBX_TL4ZIC2t"
      },
      "execution_count": null,
      "outputs": []
    }
  ]
}