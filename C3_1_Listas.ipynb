{
  "nbformat": 4,
  "nbformat_minor": 0,
  "metadata": {
    "colab": {
      "provenance": [],
      "authorship_tag": "ABX9TyMtXu/RneaNZp7LkkLVL+G5",
      "include_colab_link": true
    },
    "kernelspec": {
      "name": "python3",
      "display_name": "Python 3"
    },
    "language_info": {
      "name": "python"
    }
  },
  "cells": [
    {
      "cell_type": "markdown",
      "metadata": {
        "id": "view-in-github",
        "colab_type": "text"
      },
      "source": [
        "<a href=\"https://colab.research.google.com/github/Markohf/CD_Flash_DS/blob/main/C3_1_Listas.ipynb\" target=\"_parent\"><img src=\"https://colab.research.google.com/assets/colab-badge.svg\" alt=\"Open In Colab\"/></a>"
      ]
    },
    {
      "cell_type": "markdown",
      "source": [
        "# Listas\n",
        "\n",
        "Las listas en python son un tipo de estructuras de dato que nos permiten almacenar diversos elementos: números, texto, otras listas, etc.\n",
        "\n",
        "Una lista es un arreglo. Los arreglos son secuencias o colecciones ordenadas de elementos. Es importante tener en cuenta que en python no existe el tipo de dato arreglo (array).\n",
        "\n",
        "Para definir una lista debemos usar los corchetes \"[]\"."
      ],
      "metadata": {
        "id": "yG81WPUerdiX"
      }
    },
    {
      "cell_type": "markdown",
      "source": [
        "Algunas caracteristicas de las listas son:\n",
        "\n",
        "* Orden: Los elementos de una lista se almacenan en un orden específico. Podemos acceder a los elementos de la lista por su posición (indice).\n",
        "\n",
        "* Índices: Los elementos de una lista se numeran utilizando índices, comenzando desde 0.\n",
        "\n",
        "* Mutabilidad: Las listas son mutables, lo que significa que puedes cambiar, agregar o eliminar elementos de una lista después de crearla.\n",
        "\n",
        "![](https://assets.codingdojo.com/boomyeah2015/codingdojo/curriculum/content/chapter/defineList.png)"
      ],
      "metadata": {
        "id": "xhHxMNJZsCU_"
      }
    },
    {
      "cell_type": "markdown",
      "source": [
        "## Acceder a elemento y cortes de la lista"
      ],
      "metadata": {
        "id": "kdNjI39rucZ-"
      }
    },
    {
      "cell_type": "code",
      "execution_count": null,
      "metadata": {
        "id": "FqG45ZdG_m9j"
      },
      "outputs": [],
      "source": [
        "lista = [1 , 'Hola' , 3, [8, 0]]"
      ]
    },
    {
      "cell_type": "code",
      "source": [
        "#Accedemos al primer elemento de la lista.\n",
        "print(lista[0])"
      ],
      "metadata": {
        "id": "2-nbP7s-sAnB"
      },
      "execution_count": null,
      "outputs": []
    },
    {
      "cell_type": "code",
      "source": [
        "#Accedemos al segundo elemento de la lista.\n",
        "print(lista[1])"
      ],
      "metadata": {
        "id": "y0d9gHUgsyr3"
      },
      "execution_count": null,
      "outputs": []
    },
    {
      "cell_type": "code",
      "source": [
        "#Accedemos al último elemento de la lista.\n",
        "print(lista[-1])"
      ],
      "metadata": {
        "id": "rMHwmKtts1JZ"
      },
      "execution_count": null,
      "outputs": []
    },
    {
      "cell_type": "code",
      "source": [
        "#Definimos una nueva lista.\n",
        "lista = [10, True, 5.4, 'Chau', 8, 3, 'a', 'b', 25]"
      ],
      "metadata": {
        "id": "nIM1mqVBs3JB"
      },
      "execution_count": null,
      "outputs": []
    },
    {
      "cell_type": "code",
      "source": [
        "#Accedemos a los elemento del index 3 hasta antes del index 6.\n",
        "print(lista[3:6])"
      ],
      "metadata": {
        "id": "zGcYE_y4tI00"
      },
      "execution_count": null,
      "outputs": []
    },
    {
      "cell_type": "code",
      "source": [
        "#Accedemos a todos los elementos hasta antes del index 6.\n",
        "print(lista[:6])"
      ],
      "metadata": {
        "id": "O9rMtczKtNZA"
      },
      "execution_count": null,
      "outputs": []
    },
    {
      "cell_type": "code",
      "source": [
        "#Accedemos a todos los elementos desde el index 6.\n",
        "print(lista[6:])"
      ],
      "metadata": {
        "id": "VviM7EG5tSbX"
      },
      "execution_count": null,
      "outputs": []
    },
    {
      "cell_type": "code",
      "source": [
        "#Accedemos a todos los elementos desde el index -3.\n",
        "print(lista[-3:])"
      ],
      "metadata": {
        "id": "kp3xsPE0tVIX"
      },
      "execution_count": null,
      "outputs": []
    },
    {
      "cell_type": "markdown",
      "source": [
        "## Cambiar elementos de las listas"
      ],
      "metadata": {
        "id": "z7BP3gZIus1u"
      }
    },
    {
      "cell_type": "code",
      "source": [
        "#Definimos una lista\n",
        "lista = [0, 1, 2, 3]"
      ],
      "metadata": {
        "id": "rofz2U-guw_1"
      },
      "execution_count": null,
      "outputs": []
    },
    {
      "cell_type": "code",
      "source": [
        "#Cambiamos el primer elemento de la lista.\n",
        "lista[0] = 'Hola'\n",
        "print(lista)"
      ],
      "metadata": {
        "id": "_fqE8It3u9ji"
      },
      "execution_count": null,
      "outputs": []
    },
    {
      "cell_type": "code",
      "source": [
        "#Cambiamos el segundo y tercer elemento de la lista.\n",
        "lista[1:2] = [80, 90]\n",
        "print(lista)"
      ],
      "metadata": {
        "id": "HnkN6FjFvFXy"
      },
      "execution_count": null,
      "outputs": []
    },
    {
      "cell_type": "code",
      "source": [
        "#Cambiamos el último elemento de la lista por una sub-lista.\n",
        "lista[-1] = ['a', 'b']\n",
        "print(lista)"
      ],
      "metadata": {
        "id": "CJXZqnCYvNkK"
      },
      "execution_count": null,
      "outputs": []
    },
    {
      "cell_type": "markdown",
      "source": [
        "## Métodos en las listas\n",
        "\n",
        "Existen muchos métodos para diversas tareas, pero a continuación veremos algunos muy útiles."
      ],
      "metadata": {
        "id": "UavOAG9Tv2a6"
      }
    },
    {
      "cell_type": "code",
      "source": [
        "#Definimos una lista.\n",
        "lista = [1, 0, 100, 13, 45, 16, 1080]"
      ],
      "metadata": {
        "id": "Fxz39knxyEQB"
      },
      "execution_count": null,
      "outputs": []
    },
    {
      "cell_type": "code",
      "source": [
        "#Ordenar una lista.\n",
        "lista.sort()\n",
        "print(lista)"
      ],
      "metadata": {
        "id": "XuuGfLLZybX0"
      },
      "execution_count": null,
      "outputs": []
    },
    {
      "cell_type": "code",
      "source": [
        "#Agregar un elemento al final de una lista.\n",
        "lista.append(10)\n",
        "print(lista)"
      ],
      "metadata": {
        "id": "LgEXvQC5y9Io"
      },
      "execution_count": null,
      "outputs": []
    },
    {
      "cell_type": "code",
      "source": [
        "#Eliminar la primera ocurrencia de un elemento en una lista.\n",
        "lista.remove(10)\n",
        "print(lista)"
      ],
      "metadata": {
        "id": "o1U93j9WzP7n"
      },
      "execution_count": null,
      "outputs": []
    },
    {
      "cell_type": "code",
      "source": [
        "#Eliminar el índice proporcionado. Este método también retorna el elemento eliminado de la lista.\n",
        "print(lista.pop(2))\n",
        "print(lista)"
      ],
      "metadata": {
        "id": "hepd5sbfzYbS"
      },
      "execution_count": null,
      "outputs": []
    },
    {
      "cell_type": "code",
      "source": [
        "#Concatenar listas.\n",
        "listae = ['a', 'b']\n",
        "lista.extend(listae)\n",
        "print(lista)"
      ],
      "metadata": {
        "id": "nZTbmA5czu8z"
      },
      "execution_count": null,
      "outputs": []
    },
    {
      "cell_type": "code",
      "source": [
        "#Agregar elementos en la lista\n",
        "lista.insert(1, [5, 6])\n",
        "print(lista)"
      ],
      "metadata": {
        "id": "BJB5iD68z--k"
      },
      "execution_count": null,
      "outputs": []
    }
  ]
}