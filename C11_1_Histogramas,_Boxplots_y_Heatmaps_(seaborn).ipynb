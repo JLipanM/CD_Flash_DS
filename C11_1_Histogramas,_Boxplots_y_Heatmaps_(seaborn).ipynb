{
  "nbformat": 4,
  "nbformat_minor": 0,
  "metadata": {
    "colab": {
      "provenance": [],
      "authorship_tag": "ABX9TyO6N46xgaj5fuYC65Ccyvwx",
      "include_colab_link": true
    },
    "kernelspec": {
      "name": "python3",
      "display_name": "Python 3"
    },
    "language_info": {
      "name": "python"
    }
  },
  "cells": [
    {
      "cell_type": "markdown",
      "metadata": {
        "id": "view-in-github",
        "colab_type": "text"
      },
      "source": [
        "<a href=\"https://colab.research.google.com/github/Markohf/CD_Flash_DS/blob/main/C11_1_Histogramas%2C_Boxplots_y_Heatmaps_(seaborn).ipynb\" target=\"_parent\"><img src=\"https://colab.research.google.com/assets/colab-badge.svg\" alt=\"Open In Colab\"/></a>"
      ]
    },
    {
      "cell_type": "code",
      "execution_count": null,
      "metadata": {
        "id": "frb1MgbJi2qS"
      },
      "outputs": [],
      "source": [
        "from google.colab import drive\n",
        "drive.mount('/content/drive')"
      ]
    },
    {
      "cell_type": "code",
      "source": [
        "import numpy as np\n",
        "import pandas as pd\n",
        "import matplotlib.pyplot as plt"
      ],
      "metadata": {
        "id": "RkKfFKnDlm-O"
      },
      "execution_count": null,
      "outputs": []
    },
    {
      "cell_type": "markdown",
      "source": [
        "#Introducción\n",
        "![](https://conceptosclaros.com/wp-content/uploads/2016/10/boxplot-histograma.png)\n",
        "\n",
        "No confundir media con mediana:\n",
        "\n",
        "* media: es el promedio.\n",
        "* mediana: es el valor central si ordenamos los datos. En caso de una cantidad de datos pares, será el promedio de los 2 centrales.\n",
        "\n",
        "Entendiendo los cuartiles:\n",
        "\n",
        "* Q1: Es el valor que deja el 25% de los datos por debajo y el 75% por encima. En otras palabras, es el valor que está a un cuarto del camino a través de la lista ordenada de datos.\n",
        "\n",
        "* Q2: Es la mediana, el valor que deja el 50% de los datos por debajo y el 50% por encima. Es el valor que está justo en el medio del conjunto de datos ordenado.\n",
        "\n",
        "* Q3: Es el valor que deja el 75% de los datos por debajo y el 25% por encima. En otras palabras, es el valor que está a tres cuartos del camino a través de la lista ordenada de datos."
      ],
      "metadata": {
        "id": "cESU4rADyJ1f"
      }
    },
    {
      "cell_type": "markdown",
      "source": [
        "#Histogramas"
      ],
      "metadata": {
        "id": "FsWbYnr_lOl8"
      }
    },
    {
      "cell_type": "code",
      "source": [
        "data = '/content/drive/MyDrive/Flashcamp - Data Science/BBDD/kingCountyHouseData.csv'\n",
        "df = pd.read_csv(data)\n",
        "df.head()"
      ],
      "metadata": {
        "id": "48mgMGoamDSf"
      },
      "execution_count": null,
      "outputs": []
    },
    {
      "cell_type": "code",
      "source": [
        "#Usamos mathplotlib.\n",
        "plt.hist(df['price'])\n",
        "plt.show()"
      ],
      "metadata": {
        "id": "4Ck0VysFp7jI"
      },
      "execution_count": null,
      "outputs": []
    },
    {
      "cell_type": "code",
      "source": [
        "#Usamos la incorporacion de mathplotlib en pandas.\n",
        "df['price'].hist()"
      ],
      "metadata": {
        "id": "i30opcQ6mX_c"
      },
      "execution_count": null,
      "outputs": []
    },
    {
      "cell_type": "code",
      "source": [
        "#Eliminamos la notación cientifica y rotamos los puntos en el eje x para que sean visibles.\n",
        "# Change number of bins\n",
        "df['price'].hist()\n",
        "plt.xticks(rotation = 45)\n",
        "plt.ticklabel_format(useOffset=False, style='plain')"
      ],
      "metadata": {
        "id": "yf08eAAgnBvn"
      },
      "execution_count": null,
      "outputs": []
    },
    {
      "cell_type": "code",
      "source": [
        "#Manipulamos el numero de intervalos.\n",
        "df['price'].hist(bins = 30)\n",
        "plt.xticks(rotation = 45)\n",
        "plt.ticklabel_format(useOffset=False, style='plain')"
      ],
      "metadata": {
        "id": "FP_Y5uHVn9S6"
      },
      "execution_count": null,
      "outputs": []
    },
    {
      "cell_type": "code",
      "source": [
        "#Nos enfocamos en los precios menores a 3mm.\n",
        "price_filter = df.loc[:, 'price'] <= 3000000\n",
        "df.loc[price_filter, 'price'].hist(bins = 30, edgecolor='black')\n",
        "plt.xticks(rotation = 45)\n",
        "plt.ticklabel_format(useOffset=False, style='plain')"
      ],
      "metadata": {
        "id": "zgfP4Od4oCO8"
      },
      "execution_count": null,
      "outputs": []
    },
    {
      "cell_type": "code",
      "source": [
        "#Tambien podemos hacer histogramas usando mathplotlib.\n",
        "plt.hist(df.loc[price_filter, 'price'])\n",
        "plt.show()"
      ],
      "metadata": {
        "id": "lsWluINBocKo"
      },
      "execution_count": null,
      "outputs": []
    },
    {
      "cell_type": "markdown",
      "source": [
        "#Boxplots"
      ],
      "metadata": {
        "id": "IB06P9edqnCf"
      }
    },
    {
      "cell_type": "code",
      "source": [
        "data = '/content/drive/MyDrive/Flashcamp - Data Science/BBDD/wisconsinBreastCancer.csv'\n",
        "df = pd.read_csv(data)\n",
        "df.head()"
      ],
      "metadata": {
        "id": "U9vSbTxDqoW4"
      },
      "execution_count": null,
      "outputs": []
    },
    {
      "cell_type": "code",
      "source": [
        "#Usando mathplotlib.\n",
        "malignant = df.loc[df['diagnosis']=='M','area_mean'].values\n",
        "benign = df.loc[df['diagnosis']=='B','area_mean'].values\n",
        "plt.boxplot([malignant,benign], labels=['M', 'B'])"
      ],
      "metadata": {
        "id": "a51lhRUL1LmM"
      },
      "execution_count": null,
      "outputs": []
    },
    {
      "cell_type": "code",
      "source": [
        "#Usamos la incorporacion de mathplotlib en pandas.\n",
        "df.boxplot(column = 'area_mean', by = 'diagnosis')"
      ],
      "metadata": {
        "id": "UBSulyJa1UFo"
      },
      "execution_count": null,
      "outputs": []
    },
    {
      "cell_type": "markdown",
      "source": [
        "#Mapas de calor (seaborn)"
      ],
      "metadata": {
        "id": "DQ_FZe56255L"
      }
    },
    {
      "cell_type": "code",
      "source": [
        "import seaborn as sns"
      ],
      "metadata": {
        "id": "h-W-75Fj29f1"
      },
      "execution_count": null,
      "outputs": []
    },
    {
      "cell_type": "code",
      "source": [
        "data = '/content/drive/MyDrive/Flashcamp - Data Science/BBDD/athleteEventsNoPersonal.csv'\n",
        "df = pd.read_csv(data)\n",
        "df.head()"
      ],
      "metadata": {
        "id": "HC-JqzA63EVa"
      },
      "execution_count": null,
      "outputs": []
    },
    {
      "cell_type": "code",
      "source": [
        "corr = df.corr()\n",
        "print(corr)"
      ],
      "metadata": {
        "id": "4UxQxGX8ClBT"
      },
      "execution_count": null,
      "outputs": []
    },
    {
      "cell_type": "code",
      "source": [
        "sns.heatmap(corr)"
      ],
      "metadata": {
        "id": "Wtluk8wDCsLW"
      },
      "execution_count": null,
      "outputs": []
    },
    {
      "cell_type": "code",
      "source": [
        "sns.heatmap(corr, cmap='Greens', annot = True)"
      ],
      "metadata": {
        "id": "l99QkQJeDV-S"
      },
      "execution_count": null,
      "outputs": []
    },
    {
      "cell_type": "code",
      "source": [
        "mascara = corr == 1\n",
        "sns.heatmap(corr, mask=mascara, cmap='Greens', annot = True, fmt = '.2f')"
      ],
      "metadata": {
        "id": "iX3_t3OVDnWP"
      },
      "execution_count": null,
      "outputs": []
    }
  ]
}