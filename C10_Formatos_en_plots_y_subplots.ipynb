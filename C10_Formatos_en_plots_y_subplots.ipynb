{
  "nbformat": 4,
  "nbformat_minor": 0,
  "metadata": {
    "colab": {
      "provenance": [],
      "authorship_tag": "ABX9TyOxazgLJZnq8uLcMKyC+J4B",
      "include_colab_link": true
    },
    "kernelspec": {
      "name": "python3",
      "display_name": "Python 3"
    },
    "language_info": {
      "name": "python"
    }
  },
  "cells": [
    {
      "cell_type": "markdown",
      "metadata": {
        "id": "view-in-github",
        "colab_type": "text"
      },
      "source": [
        "<a href=\"https://colab.research.google.com/github/Markohf/CD_Flash_DS/blob/main/C10_Formatos_en_plots_y_subplots.ipynb\" target=\"_parent\"><img src=\"https://colab.research.google.com/assets/colab-badge.svg\" alt=\"Open In Colab\"/></a>"
      ]
    },
    {
      "cell_type": "code",
      "execution_count": null,
      "metadata": {
        "id": "4_kSiJZbOAKS"
      },
      "outputs": [],
      "source": [
        "import pandas as pd\n",
        "import matplotlib.pyplot as plt"
      ]
    },
    {
      "cell_type": "markdown",
      "source": [
        "#Formatos"
      ],
      "metadata": {
        "id": "PLtIOxcyrcYf"
      }
    },
    {
      "cell_type": "code",
      "source": [
        "# Creamos un plot simple\n",
        "tiempo = [1, 2, 3, 4, 5, 6, 7, 8, 9, 10, 11]\n",
        "venta1 = [100, 105, 110, 115, 120, 125, 130, 135, 140, 145, 150]\n",
        "plt.plot(tiempo, venta1)\n",
        "#Importante especificar .show() ya que no en todos los entornos la figurase muestra de forma automatica\n",
        "plt.show()"
      ],
      "metadata": {
        "id": "t_QPPrToxyAe"
      },
      "execution_count": null,
      "outputs": []
    },
    {
      "cell_type": "code",
      "source": [
        "#Con .figure() controlamos diferentes aspectos del canvas (lienzo).\n",
        "#Con el parametro dpi controlamos los puntos por pulgada, es decir, la resolución.\n",
        "plt.figure(dpi=10) #Ponemos un ejemplo de 10 dpi lo cual genera una imagen en baja resolución, por default los dpi están en 100.\n",
        "tiempo = [1, 2, 3, 4, 5, 6, 7, 8, 9, 10, 11]\n",
        "venta1 = [100, 105, 110, 115, 120, 125, 130, 135, 140, 145, 150]\n",
        "plt.plot(tiempo, venta1)\n",
        "plt.show()"
      ],
      "metadata": {
        "id": "uht1kJuNyNlv"
      },
      "execution_count": null,
      "outputs": []
    },
    {
      "cell_type": "code",
      "source": [
        "#Con figsize controlamos ancho y alto de la figura.\n",
        "plt.figure(dpi=100, figsize = (8, 5)) #si las dimensiones son (8, 5) y el dpi es 100, entonces las dimensiones son (800, 500) píxeles.\n",
        "tiempo = [1, 2, 3, 4, 5, 6, 7, 8, 9, 10, 11]\n",
        "venta1 = [100, 105, 110, 115, 120, 125, 130, 135, 140, 145, 150]\n",
        "plt.plot(tiempo, venta1)\n",
        "plt.show()"
      ],
      "metadata": {
        "id": "0wpbtKEgy_wn"
      },
      "execution_count": null,
      "outputs": []
    },
    {
      "cell_type": "code",
      "source": [
        "#Con facecolor y edgecolor podemos definir los colores de fondo y bordes ya sea con formato hexadecimal o rgb (normalizados al rango 0-1 ).\n",
        "plt.figure(dpi=100, figsize = (8, 5), facecolor=('#FF5733'), edgecolor=((1, 1, 0))) #En este caso cuando se trabaja en google.colab y otros entornos no se logra visualizar el efecto de edgecolor, pero si será visible si exportamos el gráfico.\n",
        "tiempo = [1, 2, 3, 4, 5, 6, 7, 8, 9, 10, 11]\n",
        "venta1 = [100, 105, 110, 115, 120, 125, 130, 135, 140, 145, 150]\n",
        "plt.plot(tiempo, venta1)\n",
        "plt.show()"
      ],
      "metadata": {
        "id": "bQvMiO8x0OAE"
      },
      "execution_count": null,
      "outputs": []
    },
    {
      "cell_type": "code",
      "source": [
        "plt.figure(dpi=100, figsize = (8, 5), facecolor=('#ADD8E6'))\n",
        "#Podemos usar .title, .xlabel y .ylabel para agregar titulo al gráfico y sus ejes.\n",
        "plt.title('Ejemplo de Gráfico')\n",
        "plt.xlabel('Eje X')\n",
        "plt.ylabel('Eje Y')\n",
        "tiempo = [1, 2, 3, 4, 5, 6, 7, 8, 9, 10, 11]\n",
        "venta1 = [100, 105, 110, 115, 120, 125, 130, 135, 140, 145, 150]\n",
        "plt.plot(tiempo, venta1)\n",
        "plt.show()"
      ],
      "metadata": {
        "id": "S5yOM2Vb1u-B"
      },
      "execution_count": null,
      "outputs": []
    },
    {
      "cell_type": "code",
      "source": [
        "plt.figure(dpi=100, figsize = (8, 5), facecolor=('#ADD8E6'))\n",
        "#Tambien podemos agregar formato a estos títulos.\n",
        "plt.title('Ejemplo de Gráfico', fontsize=16, color='blue', fontweight='bold') #Como vemos tambien se pueden usar palabras clave como color.\n",
        "plt.xlabel('Eje X', fontsize=12, color='blue', fontstyle='italic')\n",
        "plt.ylabel('Eje Y', fontsize=12, color='blue', fontstyle='italic')\n",
        "tiempo = [1, 2, 3, 4, 5, 6, 7, 8, 9, 10, 11]\n",
        "venta1 = [100, 105, 110, 115, 120, 125, 130, 135, 140, 145, 150]\n",
        "plt.plot(tiempo, venta1)\n",
        "plt.show()"
      ],
      "metadata": {
        "id": "OK85mD8_23Iq"
      },
      "execution_count": null,
      "outputs": []
    },
    {
      "cell_type": "code",
      "source": [
        "plt.figure(dpi=100, figsize = (8, 5), facecolor='#F5F5F5')\n",
        "#Tambien podemos agregar formato a estos títulos.\n",
        "plt.title('Ejemplo de Gráfico', fontsize=16, color='#808080', fontweight='bold')\n",
        "plt.xlabel('Eje X', fontsize=12, color='#808080', fontstyle='italic')\n",
        "plt.ylabel('Eje Y', fontsize=12, color='#808080', fontstyle='italic')\n",
        "tiempo = [1, 2, 3, 4, 5, 6, 7, 8, 9, 10, 11]\n",
        "venta1 = [100, 105, 110, 115, 120, 125, 130, 135, 140, 145, 150]\n",
        "plt.plot(tiempo, venta1)\n",
        "plt.show()"
      ],
      "metadata": {
        "id": "lwE2nBGH3yHS"
      },
      "execution_count": null,
      "outputs": []
    },
    {
      "cell_type": "code",
      "source": [
        "plt.figure(dpi=100, figsize = (8, 5), facecolor='#F5F5F5')\n",
        "plt.title('Ejemplo de Gráfico', fontsize=16, color='#808080', fontweight='bold')\n",
        "plt.xlabel('Eje X', fontsize=12, color='#808080', fontstyle='italic')\n",
        "plt.ylabel('Eje Y', fontsize=12, color='#808080', fontstyle='italic')\n",
        "tiempo = [1, 2, 3, 4, 5, 6, 7, 8, 9, 10, 11]\n",
        "venta1 = [100, 105, 110, 115, 120, 125, 130, 135, 140, 145, 150]\n",
        "venta2 = [50, 70, 90, 100, 130, 80, 95, 50, 70, 50, 80]\n",
        "venta3 = [10, 20, 30, 40, 50, 60, 75, 95, 120, 150, 185]\n",
        "venta4 = [180, 160, 180, 160, 180, 20, 40, 20, 40, 20, 40]\n",
        "#Por default se asignan diferentes colores a las líneas graficadas.\n",
        "plt.plot(tiempo, venta1)\n",
        "plt.plot(tiempo, venta2)\n",
        "plt.plot(tiempo, venta3)\n",
        "plt.plot(tiempo, venta4)\n",
        "plt.show()"
      ],
      "metadata": {
        "id": "blzHsMqp4viQ"
      },
      "execution_count": null,
      "outputs": []
    },
    {
      "cell_type": "code",
      "source": [
        "plt.figure(dpi=100, figsize = (8, 5), facecolor='#F5F5F5')\n",
        "plt.title('Ejemplo de Gráfico', fontsize=16, color='#808080', fontweight='bold')\n",
        "plt.xlabel('Eje X', fontsize=12, color='#808080', fontstyle='italic')\n",
        "plt.ylabel('Eje Y', fontsize=12, color='#808080', fontstyle='italic')\n",
        "tiempo = [1, 2, 3, 4, 5, 6, 7, 8, 9, 10, 11]\n",
        "venta1 = [100, 105, 110, 115, 120, 125, 130, 135, 140, 145, 150]\n",
        "venta2 = [50, 70, 90, 100, 130, 80, 95, 50, 70, 50, 80]\n",
        "venta3 = [10, 20, 30, 40, 50, 60, 75, 95, 120, 150, 185]\n",
        "venta4 = [180, 160, 180, 160, 180, 20, 40, 20, 40, 20, 40]\n",
        "plt.plot(tiempo, venta1, '-r')\n",
        "plt.plot(tiempo, venta2, '--y')\n",
        "plt.plot(tiempo, venta3, '-og')\n",
        "plt.plot(tiempo, venta4, 's--b')\n",
        "plt.show()"
      ],
      "metadata": {
        "id": "X-knqacu6Uyt"
      },
      "execution_count": null,
      "outputs": []
    },
    {
      "cell_type": "code",
      "source": [
        "plt.figure(dpi=100, figsize = (8, 5), facecolor='#F5F5F5')\n",
        "plt.title('Ejemplo de Gráfico', fontsize=16, color='#808080', fontweight='bold')\n",
        "plt.xlabel('Eje X', fontsize=12, color='#808080', fontstyle='italic')\n",
        "plt.ylabel('Eje Y', fontsize=12, color='#808080', fontstyle='italic')\n",
        "tiempo = [1, 2, 3, 4, 5, 6, 7, 8, 9, 10, 11]\n",
        "venta1 = [100, 105, 110, 115, 120, 125, 130, 135, 140, 145, 150]\n",
        "venta2 = [50, 70, 90, 100, 130, 80, 95, 50, 70, 50, 80]\n",
        "venta3 = [10, 20, 30, 40, 50, 60, 75, 95, 120, 150, 185]\n",
        "venta4 = [180, 160, 180, 160, 180, 20, 40, 20, 40, 20, 40]\n",
        "plt.plot(tiempo, venta1, color='brown', linewidth=3, marker='o', markersize=10, markerfacecolor='pink', markeredgewidth=1, markeredgecolor='red') #Podemos especificar tambien cada parametro usado.\n",
        "plt.plot(tiempo, venta2, '--y')\n",
        "plt.plot(tiempo, venta3, '-og')\n",
        "plt.plot(tiempo, venta4, 's--b')\n",
        "plt.show()"
      ],
      "metadata": {
        "id": "paYcT4FT7Q4r"
      },
      "execution_count": null,
      "outputs": []
    },
    {
      "cell_type": "code",
      "source": [
        "plt.figure(dpi=100, figsize = (8, 5), facecolor='#F5F5F5')\n",
        "plt.title('Ejemplo de Gráfico', fontsize=16, color='#808080', fontweight='bold')\n",
        "plt.xlabel('Eje X', fontsize=12, color='#808080', fontstyle='italic')\n",
        "plt.ylabel('Eje Y', fontsize=12, color='#808080', fontstyle='italic')\n",
        "tiempo = [1, 2, 3, 4, 5, 6, 7, 8, 9, 10, 11]\n",
        "venta1 = [100, 105, 110, 115, 120, 125, 130, 135, 140, 145, 150]\n",
        "venta2 = [50, 70, 90, 100, 130, 80, 95, 50, 70, 50, 80]\n",
        "venta3 = [10, 20, 30, 40, 50, 60, 75, 95, 120, 150, 185]\n",
        "venta4 = [180, 160, 180, 160, 180, 20, 40, 20, 40, 20, 40]\n",
        "#Podemos usar .axis() para ajustar los ejes.\n",
        "plt.axis([0, 13, 0, 200])\n",
        "plt.plot(tiempo, venta1, color='brown', linewidth=3, marker='o', markersize=10, markerfacecolor='pink', markeredgewidth=1, markeredgecolor='red')\n",
        "plt.plot(tiempo, venta2, '--y')\n",
        "plt.plot(tiempo, venta3, '-og')\n",
        "plt.plot(tiempo, venta4, 's--b')\n",
        "plt.show()"
      ],
      "metadata": {
        "id": "hEkBrgbx40_9"
      },
      "execution_count": null,
      "outputs": []
    },
    {
      "cell_type": "code",
      "source": [
        "plt.figure(dpi=100, figsize = (8, 5), facecolor='#F5F5F5')\n",
        "plt.title('Ejemplo de Gráfico', fontsize=16, color='#808080', fontweight='bold')\n",
        "plt.xlabel('Eje X', fontsize=12, color='#808080', fontstyle='italic')\n",
        "plt.ylabel('Eje Y', fontsize=12, color='#808080', fontstyle='italic')\n",
        "tiempo = [1, 2, 3, 4, 5, 6, 7, 8, 9, 10, 11]\n",
        "venta1 = [100, 105, 110, 115, 120, 125, 130, 135, 140, 145, 150]\n",
        "venta2 = [50, 70, 90, 100, 130, 80, 95, 50, 70, 50, 80]\n",
        "venta3 = [10, 20, 30, 40, 50, 60, 75, 95, 120, 150, 185]\n",
        "venta4 = [180, 160, 180, 160, 180, 20, 40, 20, 40, 20, 40]\n",
        "#Podemos usar algunas palabras clave en .axis().\n",
        "plt.axis('auto')\n",
        "plt.plot(tiempo, venta1, color='brown', linewidth=3, marker='o', markersize=10, markerfacecolor='pink', markeredgewidth=1, markeredgecolor='red')\n",
        "plt.plot(tiempo, venta2, '--y')\n",
        "plt.plot(tiempo, venta3, '-og')\n",
        "plt.plot(tiempo, venta4, 's--b')\n",
        "plt.show()"
      ],
      "metadata": {
        "id": "ZGoMTj_gpKm-"
      },
      "execution_count": null,
      "outputs": []
    },
    {
      "cell_type": "code",
      "source": [
        "plt.figure(dpi=100, figsize = (8, 5), facecolor='#F5F5F5')\n",
        "plt.title('Ejemplo de Gráfico', fontsize=16, color='#808080', fontweight='bold')\n",
        "plt.xlabel('Eje X', fontsize=12, color='#808080', fontstyle='italic')\n",
        "plt.ylabel('Eje Y', fontsize=12, color='#808080', fontstyle='italic')\n",
        "tiempo = [1, 2, 3, 4, 5, 6, 7, 8, 9, 10, 11]\n",
        "venta1 = [100, 105, 110, 115, 120, 125, 130, 135, 140, 145, 150]\n",
        "venta2 = [50, 70, 90, 100, 130, 80, 95, 50, 70, 50, 80]\n",
        "venta3 = [10, 20, 30, 40, 50, 60, 75, 95, 120, 150, 185]\n",
        "venta4 = [180, 160, 180, 160, 180, 20, 40, 20, 40, 20, 40]\n",
        "plt.axis('auto')\n",
        "#Agregamos cuadrículas\n",
        "plt.grid()\n",
        "plt.plot(tiempo, venta1, color='brown', linewidth=3, marker='o', markersize=10, markerfacecolor='pink', markeredgewidth=1, markeredgecolor='red')\n",
        "plt.plot(tiempo, venta2, '--y')\n",
        "plt.plot(tiempo, venta3, '-og')\n",
        "plt.plot(tiempo, venta4, 's--b')\n",
        "plt.show()"
      ],
      "metadata": {
        "id": "DRAxPkoc4crG"
      },
      "execution_count": null,
      "outputs": []
    },
    {
      "cell_type": "code",
      "source": [
        "plt.figure(dpi=100, figsize = (8, 5), facecolor='#F5F5F5')\n",
        "plt.title('Ejemplo de Gráfico', fontsize=16, color='#808080', fontweight='bold')\n",
        "plt.xlabel('Eje X', fontsize=12, color='#808080', fontstyle='italic')\n",
        "plt.ylabel('Eje Y', fontsize=12, color='#808080', fontstyle='italic')\n",
        "tiempo = [1, 2, 3, 4, 5, 6, 7, 8, 9, 10, 11]\n",
        "venta1 = [100, 105, 110, 115, 120, 125, 130, 135, 140, 145, 150]\n",
        "venta2 = [50, 70, 90, 100, 130, 80, 95, 50, 70, 50, 80]\n",
        "venta3 = [10, 20, 30, 40, 50, 60, 75, 95, 120, 150, 185]\n",
        "venta4 = [180, 160, 180, 160, 180, 20, 40, 20, 40, 20, 40]\n",
        "plt.axis('auto')\n",
        "#Agregamos formato a la cuadrícula.\n",
        "plt.grid(axis = 'y', c = 'grey', alpha = .9, linestyle = '--')\n",
        "plt.plot(tiempo, venta1, color='brown', linewidth=3, marker='o', markersize=10, markerfacecolor='pink', markeredgewidth=1, markeredgecolor='red')\n",
        "plt.plot(tiempo, venta2, '--y')\n",
        "plt.plot(tiempo, venta3, '-og')\n",
        "plt.plot(tiempo, venta4, 's--b')\n",
        "plt.show()"
      ],
      "metadata": {
        "id": "O_bi3X1148x1"
      },
      "execution_count": null,
      "outputs": []
    },
    {
      "cell_type": "code",
      "source": [
        "plt.figure(dpi=100, figsize = (8, 5), facecolor='#F5F5F5')\n",
        "plt.title('Ejemplo de Gráfico', fontsize=16, color='#808080', fontweight='bold')\n",
        "plt.xlabel('Eje X', fontsize=12, color='#808080', fontstyle='italic')\n",
        "plt.ylabel('Eje Y', fontsize=12, color='#808080', fontstyle='italic')\n",
        "tiempo = [1, 2, 3, 4, 5, 6, 7, 8, 9, 10, 11]\n",
        "venta1 = [100, 105, 110, 115, 120, 125, 130, 135, 140, 145, 150]\n",
        "venta2 = [50, 70, 90, 100, 130, 80, 95, 50, 70, 50, 80]\n",
        "venta3 = [10, 20, 30, 40, 50, 60, 75, 95, 120, 150, 185]\n",
        "venta4 = [180, 160, 180, 160, 180, 20, 40, 20, 40, 20, 40]\n",
        "plt.axis('auto')\n",
        "plt.grid(axis = 'y', c = 'grey', alpha = .9, linestyle = '--')\n",
        "#agregamos leyenda\n",
        "plt.plot(tiempo, venta1, color='brown', linewidth=3, marker='o', markersize=10, markerfacecolor='pink', markeredgewidth=1, markeredgecolor='red', label = 'label 1')\n",
        "plt.plot(tiempo, venta2, '--y', label = 'label 2')\n",
        "plt.plot(tiempo, venta3, '-og', label = 'label 3')\n",
        "plt.plot(tiempo, venta4, 's--b', label = 'label 4')\n",
        "#mostramos la leyenda\n",
        "plt.legend(loc=(1.02,0))\n",
        "plt.show()"
      ],
      "metadata": {
        "id": "IrTGuRDD5g6E"
      },
      "execution_count": null,
      "outputs": []
    },
    {
      "cell_type": "code",
      "source": [
        "#ver todos los estilos de grafico\n",
        "plt.style.available"
      ],
      "metadata": {
        "id": "5G_uk6jV2gfC"
      },
      "execution_count": null,
      "outputs": []
    },
    {
      "cell_type": "code",
      "source": [
        "#Agregamos el estilo\n",
        "plt.style.use('seaborn')"
      ],
      "metadata": {
        "id": "5Ytexj3r2v17"
      },
      "execution_count": null,
      "outputs": []
    },
    {
      "cell_type": "code",
      "source": [
        "plt.figure(dpi=100, figsize = (8, 5), facecolor='#F5F5F5')\n",
        "plt.title('Ejemplo de Gráfico', fontsize=16, color='#808080', fontweight='bold')\n",
        "plt.xlabel('Eje X', fontsize=12, color='#808080', fontstyle='italic')\n",
        "plt.ylabel('Eje Y', fontsize=12, color='#808080', fontstyle='italic')\n",
        "tiempo = [1, 2, 3, 4, 5, 6, 7, 8, 9, 10, 11]\n",
        "venta1 = [100, 105, 110, 115, 120, 125, 130, 135, 140, 145, 150]\n",
        "venta2 = [50, 70, 90, 100, 130, 80, 95, 50, 70, 50, 80]\n",
        "venta3 = [10, 20, 30, 40, 50, 60, 75, 95, 120, 150, 185]\n",
        "venta4 = [180, 160, 180, 160, 180, 20, 40, 20, 40, 20, 40]\n",
        "plt.axis('auto')\n",
        "plt.grid(axis = 'y', c = 'grey', alpha = .9, linestyle = '--')\n",
        "#agregamos leyenda\n",
        "plt.plot(tiempo, venta1, color='brown', linewidth=3, marker='o', markersize=10, markerfacecolor='pink', markeredgewidth=1, markeredgecolor='red', label = 'label 1')\n",
        "plt.plot(tiempo, venta2, '--y', label = 'label 2')\n",
        "plt.plot(tiempo, venta3, '-og', label = 'label 3')\n",
        "plt.plot(tiempo, venta4, 's--b', label = 'label 4')\n",
        "#mostramos la leyenda\n",
        "plt.legend(loc=(1.02,0))\n",
        "plt.show()"
      ],
      "metadata": {
        "id": "iLtUzZaW6kkb"
      },
      "execution_count": null,
      "outputs": []
    },
    {
      "cell_type": "code",
      "source": [
        "#Extras\n",
        "plt.figure(dpi=100)\n",
        "\n",
        "plt.title(\"Títulos de gráfico\")\n",
        "plt.xlabel(\"Etiquta de eje x\")\n",
        "plt.ylabel(\"Etiquta de eje y\")\n",
        "\n",
        "#Texto en gráfico\n",
        "plt.text(1,8, 'texto de ejemplo dentro del gráfico', color=\"darkgreen\", fontsize=16)\n",
        "\n",
        "#Graficamos un hexágono y una línea segmentada\n",
        "plt.plot([6],[1], 'h', ms=10)\n",
        "plt.plot([1,2,3,4,5,6,7,8], [0.6,3,3,1,5,6,6,3], 'bo-', lw=2)\n",
        "\n",
        "#Generamos anotación con una flecha, flecha coordenada (2,1), texto de flecha coordenada (3,1)\n",
        "plt.annotate('Punto a marcar', xy=(6,1), xytext=(5,3), arrowprops=dict(facecolor='yellow', shrink=0.02))\n",
        "\n",
        "plt.axis([0,10,0,10])\n",
        "plt.show()"
      ],
      "metadata": {
        "id": "RhgPv89owMkw"
      },
      "execution_count": null,
      "outputs": []
    },
    {
      "cell_type": "markdown",
      "source": [
        "#Subplots"
      ],
      "metadata": {
        "id": "ZQOZKI4vrf8Y"
      }
    },
    {
      "cell_type": "code",
      "source": [
        "#Creación del lienzo\n",
        "fig, axes = plt.subplots(nrows = 1, ncols = 2, figsize=(8,4));\n",
        "\n",
        "#figura1\n",
        "axes[0].axis([0,5,0,17])\n",
        "axes[0].plot([1,2,3,4], [1,4,9,16], 'H--', color=\"darkblue\", markerfacecolor=\"lightgreen\", lw=2, ms=10)\n",
        "\n",
        "#figura2\n",
        "axes[1].plot([1,2,3,4], [1,2,3,4], 'v-', color=\"skyblue\", markerfacecolor=\"lightblue\", linewidth=3, ms=10)\n",
        "axes[1].plot([1,2,3,4], [2,4,6,8], 'D-.', color=\"orchid\", markerfacecolor=\"violet\", lw=2, ms=7)\n",
        "axes[1].axis([0,6,0,10])\n",
        "\n",
        "plt.show()"
      ],
      "metadata": {
        "id": "8kA7oakKqG-U"
      },
      "execution_count": null,
      "outputs": []
    },
    {
      "cell_type": "code",
      "source": [
        "#Creación del lienzo\n",
        "plt.figure(dpi=200)\n",
        "fig, axes = plt.subplots(nrows = 2, ncols = 3, figsize=(8,4));\n",
        "\n",
        "#figura1\n",
        "axes[0, 0].axis([0,5,0,17])\n",
        "axes[0, 0].plot([1,2,3,4], [1,4,9,16], 'H--', color=\"darkblue\", markerfacecolor=\"lightgreen\", lw=2, ms=10)\n",
        "\n",
        "#figura2\n",
        "axes[0, 1].axis([0,6,0,10])\n",
        "axes[0, 1].plot([1,2,3,4], [1,2,3,4], 'v-', color=\"skyblue\", markerfacecolor=\"lightblue\", linewidth=3, ms=10)\n",
        "axes[0, 1].plot([1,2,3,4], [2,4,6,8], 'D-.', color=\"orchid\", markerfacecolor=\"violet\", lw=2, ms=7)\n",
        "\n",
        "#figura3\n",
        "axes[0, 2].axis([0,5,0,17])\n",
        "axes[0, 2].plot([1,2,3,4], [1,4,9,16], 'H--', color=\"darkblue\", markerfacecolor=\"lightgreen\", lw=2, ms=10)\n",
        "\n",
        "#figura4\n",
        "axes[1, 0].axis([0,6,0,10])\n",
        "axes[1, 0].plot([1,2,3,4], [1,2,3,4], 'v-', color=\"skyblue\", markerfacecolor=\"lightblue\", linewidth=3, ms=10)\n",
        "axes[1, 0].plot([1,2,3,4], [2,4,6,8], 'D-.', color=\"orchid\", markerfacecolor=\"violet\", lw=2, ms=7)\n",
        "\n",
        "#figura5\n",
        "axes[1, 1].axis([0,5,0,17])\n",
        "axes[1, 1].plot([1,2,3,4], [1,4,9,16], 'H--', color=\"orange\", markerfacecolor=\"lightgreen\", lw=2, ms=10)\n",
        "\n",
        "#figura6\n",
        "axes[1, 2].axis([0,6,0,10])\n",
        "axes[1, 2].plot([1,2,3,4], [1,2,3,4], 'v-', color=\"red\", markerfacecolor=\"lightblue\", linewidth=3, ms=10)\n",
        "axes[1, 2].plot([1,2,3,4], [2,4,6,8], 'D-.', color=\"orchid\", markerfacecolor=\"violet\", lw=2, ms=7)\n",
        "\n",
        "plt.show()"
      ],
      "metadata": {
        "id": "nlcvkVarq_1k"
      },
      "execution_count": null,
      "outputs": []
    },
    {
      "cell_type": "markdown",
      "source": [
        "#Exportar"
      ],
      "metadata": {
        "id": "rmJ_zNgx7V3s"
      }
    },
    {
      "cell_type": "code",
      "source": [
        "#Creación del lienzo\n",
        "plt.figure(dpi=200)\n",
        "fig, axes = plt.subplots(nrows = 2, ncols = 3, figsize=(8,4));\n",
        "\n",
        "#figura1\n",
        "axes[0, 0].axis([0,5,0,17])\n",
        "axes[0, 0].plot([1,2,3,4], [1,4,9,16], 'H--', color=\"darkblue\", markerfacecolor=\"lightgreen\", lw=2, ms=10)\n",
        "\n",
        "#figura2\n",
        "axes[0, 1].axis([0,6,0,10])\n",
        "axes[0, 1].plot([1,2,3,4], [1,2,3,4], 'v-', color=\"skyblue\", markerfacecolor=\"lightblue\", linewidth=3, ms=10)\n",
        "axes[0, 1].plot([1,2,3,4], [2,4,6,8], 'D-.', color=\"orchid\", markerfacecolor=\"violet\", lw=2, ms=7)\n",
        "\n",
        "#figura3\n",
        "axes[0, 2].axis([0,5,0,17])\n",
        "axes[0, 2].plot([1,2,3,4], [1,4,9,16], 'H--', color=\"darkblue\", markerfacecolor=\"lightgreen\", lw=2, ms=10)\n",
        "\n",
        "#figura4\n",
        "axes[1, 0].axis([0,6,0,10])\n",
        "axes[1, 0].plot([1,2,3,4], [1,2,3,4], 'v-', color=\"skyblue\", markerfacecolor=\"lightblue\", linewidth=3, ms=10)\n",
        "axes[1, 0].plot([1,2,3,4], [2,4,6,8], 'D-.', color=\"orchid\", markerfacecolor=\"violet\", lw=2, ms=7)\n",
        "\n",
        "#figura5\n",
        "axes[1, 1].axis([0,5,0,17])\n",
        "axes[1, 1].plot([1,2,3,4], [1,4,9,16], 'H--', color=\"orange\", markerfacecolor=\"lightgreen\", lw=2, ms=10)\n",
        "\n",
        "#figura6\n",
        "axes[1, 2].axis([0,6,0,10])\n",
        "axes[1, 2].plot([1,2,3,4], [1,2,3,4], 'v-', color=\"red\", markerfacecolor=\"lightblue\", linewidth=3, ms=10)\n",
        "axes[1, 2].plot([1,2,3,4], [2,4,6,8], 'D-.', color=\"orchid\", markerfacecolor=\"violet\", lw=2, ms=7)\n",
        "\n",
        "#Guardar\n",
        "plt.tight_layout()\n",
        "plt.savefig('Ejemplo_figura_1', dpi = 300)"
      ],
      "metadata": {
        "id": "isllizCY7W4d"
      },
      "execution_count": null,
      "outputs": []
    }
  ]
}