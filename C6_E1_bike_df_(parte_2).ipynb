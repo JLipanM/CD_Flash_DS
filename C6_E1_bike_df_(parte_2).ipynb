{
  "nbformat": 4,
  "nbformat_minor": 0,
  "metadata": {
    "colab": {
      "provenance": [],
      "mount_file_id": "1PT6x390L0NH6GJrUWBR8X47MDBCFZ4IG",
      "authorship_tag": "ABX9TyMMRnSWh+rHtRuMfra9AFc1",
      "include_colab_link": true
    },
    "kernelspec": {
      "name": "python3",
      "display_name": "Python 3"
    },
    "language_info": {
      "name": "python"
    }
  },
  "cells": [
    {
      "cell_type": "markdown",
      "metadata": {
        "id": "view-in-github",
        "colab_type": "text"
      },
      "source": [
        "<a href=\"https://colab.research.google.com/github/Markohf/CD_Flash_DS/blob/main/C6_E2_bike_df_(parte_2).ipynb\" target=\"_parent\"><img src=\"https://colab.research.google.com/assets/colab-badge.svg\" alt=\"Open In Colab\"/></a>"
      ]
    },
    {
      "cell_type": "markdown",
      "source": [
        "#Ejercicio limpieza de datos\n",
        "\n",
        "Analicen y limpien el df (no trabajar datos faltantes aún)."
      ],
      "metadata": {
        "id": "MAbFTPE3lAdw"
      }
    },
    {
      "cell_type": "code",
      "source": [
        "import pandas as pd\n",
        "filename = \"/content/drive/MyDrive/Flashcamp - Data Science/BBDD/bike_df.xlsx\"\n",
        "df = pd.read_excel(filename)\n",
        "df.head()"
      ],
      "metadata": {
        "id": "4jtODM11SSMk"
      },
      "execution_count": null,
      "outputs": []
    },
    {
      "cell_type": "code",
      "source": [
        "df.info()"
      ],
      "metadata": {
        "id": "m1GeWYx4Si86"
      },
      "execution_count": null,
      "outputs": []
    },
    {
      "cell_type": "code",
      "source": [
        "#Dropeamos la columa 8 y 9\n",
        "df = df.drop(columns=['2021 Counts' , 'Unnamed: 7', 'Unnamed: 8', 'Unnamed: 9'])\n",
        "df.info()"
      ],
      "metadata": {
        "id": "Md7tFYYxStUI"
      },
      "execution_count": null,
      "outputs": []
    },
    {
      "cell_type": "code",
      "source": [
        "df.head(10)"
      ],
      "metadata": {
        "id": "vC2UGMpDXinu"
      },
      "execution_count": null,
      "outputs": []
    },
    {
      "cell_type": "code",
      "source": [
        "df.columns"
      ],
      "metadata": {
        "colab": {
          "base_uri": "https://localhost:8080/"
        },
        "id": "jTH6EOEkZWF-",
        "outputId": "0a1bcd37-1d22-4102-845e-cb08e2cacb59"
      },
      "execution_count": null,
      "outputs": [
        {
          "output_type": "execute_result",
          "data": {
            "text/plain": [
              "Index(['Timeframe', 'Week of', ' 2019 counts (31 counters)',\n",
              "       ' 2020 counts (31 counters)', 'Change 2019-2020', 'Unnamed: 6'],\n",
              "      dtype='object')"
            ]
          },
          "metadata": {},
          "execution_count": 32
        }
      ]
    },
    {
      "cell_type": "code",
      "source": [
        "#2020vs2019\n",
        "df.columns = ['timeframe', 'week_of', '2019_counts_(31_counters)',\n",
        "       '2020_counts_(31_counters)', 'change_2019-2020', '2020_vs_2019']\n",
        "df.info()"
      ],
      "metadata": {
        "id": "Pf634HR9YKaJ"
      },
      "execution_count": null,
      "outputs": []
    },
    {
      "cell_type": "code",
      "source": [
        "df.head()"
      ],
      "metadata": {
        "id": "Cwk01fRdZ14y"
      },
      "execution_count": null,
      "outputs": []
    },
    {
      "cell_type": "code",
      "source": [
        "df.info()"
      ],
      "metadata": {
        "id": "P5tRFB-deQtD"
      },
      "execution_count": null,
      "outputs": []
    }
  ]
}
