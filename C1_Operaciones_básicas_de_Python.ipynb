{
  "nbformat": 4,
  "nbformat_minor": 0,
  "metadata": {
    "colab": {
      "provenance": [],
      "authorship_tag": "ABX9TyM5lq5JWpjmI3lQTnEPSq3o",
      "include_colab_link": true
    },
    "kernelspec": {
      "name": "python3",
      "display_name": "Python 3"
    },
    "language_info": {
      "name": "python"
    }
  },
  "cells": [
    {
      "cell_type": "markdown",
      "metadata": {
        "id": "view-in-github",
        "colab_type": "text"
      },
      "source": [
        "<a href=\"https://colab.research.google.com/github/Markohf/CD_Flash_DS/blob/main/C1_Operaciones_b%C3%A1sicas_de_Python.ipynb\" target=\"_parent\"><img src=\"https://colab.research.google.com/assets/colab-badge.svg\" alt=\"Open In Colab\"/></a>"
      ]
    },
    {
      "cell_type": "markdown",
      "source": [
        "# Print, Strings, Variables, Tipos de datos y Métodos"
      ],
      "metadata": {
        "id": "Fy6704JX38To"
      }
    },
    {
      "cell_type": "markdown",
      "source": [
        "## Print"
      ],
      "metadata": {
        "id": "zrepHODcgNXE"
      }
    },
    {
      "cell_type": "code",
      "execution_count": null,
      "metadata": {
        "id": "qBO9ZHyU3u4O"
      },
      "outputs": [],
      "source": [
        "#Función print nos devuelve un texto por pantalla.\n",
        "print('Hello World!')"
      ]
    },
    {
      "cell_type": "markdown",
      "source": [
        "Con print podemos imprimir por pantalla cualquier cadena de texto, pero debemos cuidar la sintaxis.\n",
        "\n",
        "Observemos la diferencia entre estos ejemplos."
      ],
      "metadata": {
        "id": "MAQMmm9deUNV"
      }
    },
    {
      "cell_type": "code",
      "source": [
        "#Imprimir números.\n",
        "print('23')\n",
        "print(23)\n",
        "23"
      ],
      "metadata": {
        "id": "ZD6_8aiAdrUx"
      },
      "execution_count": null,
      "outputs": []
    },
    {
      "cell_type": "code",
      "source": [
        "#Imprmir texto sin comillas ''.\n",
        "print(Hola)"
      ],
      "metadata": {
        "id": "QGfXN71Md4Ks"
      },
      "execution_count": null,
      "outputs": []
    },
    {
      "cell_type": "code",
      "source": [
        "#Ahora trataremos de imprimir texto sin usar print.\n",
        "Hola"
      ],
      "metadata": {
        "id": "4ZUbfxRHfdck"
      },
      "execution_count": null,
      "outputs": []
    },
    {
      "cell_type": "code",
      "source": [
        "#Imprmir alfanuméricos con texto con comillas.\n",
        "print('23/MF/$%*Hola')"
      ],
      "metadata": {
        "id": "ksQliIzzemmO"
      },
      "execution_count": null,
      "outputs": []
    },
    {
      "cell_type": "code",
      "source": [
        "#Ahora probaremos hacerlo sin comillas.\n",
        "print(23/MF/$%*Hola)"
      ],
      "metadata": {
        "id": "MQb0ya5ue4fs"
      },
      "execution_count": null,
      "outputs": []
    },
    {
      "cell_type": "markdown",
      "source": [
        "Siempre es recomendable seguir buenas practicas por lo que se recomienda siempre usar las comillas en la función print sea que queramos imprimir texto o números."
      ],
      "metadata": {
        "id": "EmDmDMnefK0R"
      }
    },
    {
      "cell_type": "markdown",
      "source": [
        "**Curiosidades**: averigua la diferencia entre usar comillas simples '', dobles \"\" o triples '''''' al momento de usar print."
      ],
      "metadata": {
        "id": "xTPzrZY_hWlW"
      }
    },
    {
      "cell_type": "markdown",
      "source": [
        "## Strings\n",
        "Las string son un tipo de dato que recibe su nombre por su significado en inglés \"cadena\". Este tipo de dato es una cadena de texto sea que contenga caracteres de texto o numéricos. Más adelante profundizaremos en los tipos de datos."
      ],
      "metadata": {
        "id": "NYXwqr8ygX2n"
      }
    },
    {
      "cell_type": "markdown",
      "source": [
        "## Variables\n",
        "Las variables nos permiten guardar información que luego podemos usar y manipular."
      ],
      "metadata": {
        "id": "PB7YSuoPhKTf"
      }
    },
    {
      "cell_type": "code",
      "source": [
        "text = \"Hola, me llamo Juan\"\n",
        "print(text)"
      ],
      "metadata": {
        "id": "GNZEYFHEg8cy"
      },
      "execution_count": null,
      "outputs": []
    },
    {
      "cell_type": "markdown",
      "source": [
        "## Tipos de datos\n",
        "\n",
        "Cada lenguaje puede tener diferencias en la forma en la que gestiona, maneja o clasifica sus tipos de datos.\n",
        "\n",
        "En python existen diversos tipos de datos, pero ahora veremos los 4 más simples:\n",
        "\n",
        "* String (str)\n",
        "* Integer (int)\n",
        "* Float (float)\n",
        "* Boolean (bool)"
      ],
      "metadata": {
        "id": "VzqHt104jUG-"
      }
    },
    {
      "cell_type": "markdown",
      "source": [
        "**Curiosidades**: En python los tipos de datos son clases. Las clases son estructuras."
      ],
      "metadata": {
        "id": "x2O6DeNXsxyc"
      }
    },
    {
      "cell_type": "code",
      "source": [
        "#Usaremos ahora la función type para conocer el tipo de dato de la variable ya creada \"text\".\n",
        "type(text)"
      ],
      "metadata": {
        "id": "1odNlQdfkIy7"
      },
      "execution_count": null,
      "outputs": []
    },
    {
      "cell_type": "code",
      "source": [
        "#Ahora crearemos diverdad variables y veremos sus tipos.\n",
        "val1 = 23\n",
        "val2 = \"23\"\n",
        "val3 = 23.0\n",
        "print(val1)\n",
        "print(val2)\n",
        "print(val3)"
      ],
      "metadata": {
        "id": "BY-jSjivkQPu"
      },
      "execution_count": null,
      "outputs": []
    },
    {
      "cell_type": "code",
      "source": [
        "print(type(val1))\n",
        "print(type(val2))\n",
        "print(type(val3))"
      ],
      "metadata": {
        "id": "Ak9ISGuBklRS"
      },
      "execution_count": null,
      "outputs": []
    },
    {
      "cell_type": "code",
      "source": [
        "#Boleanos\n",
        "print(type(True))\n",
        "print(type(\"True\"))\n",
        "print(type(False))\n",
        "print(type(\"False\"))"
      ],
      "metadata": {
        "id": "hqjuwLJIlCxc"
      },
      "execution_count": null,
      "outputs": []
    },
    {
      "cell_type": "markdown",
      "source": [
        "## Métodos\n",
        "\n",
        "Los tipos de datos al ser clases tienen métodos asociados.\n",
        "\n",
        "Para entender mejor qué es un método, debemos entender qué es una clase y para esto deberiamos profundizar en algunos conceptos de la programación que no son parte de este curso. Para fines prácticos, podemos entender a los métodos como funciones que se puede aplicar a nuestros tipos de datos usando una sintaxis distinta.\n",
        "\n",
        "Siguiente esta línea práctica cada tipo de dato (clase) tendrá métodos especiales que se pueden utilizar.\n",
        "\n",
        "Aqui algunos ejemplos de métodos para un string."
      ],
      "metadata": {
        "id": "bHALhORJlifT"
      }
    },
    {
      "cell_type": "code",
      "source": [
        "#Creamos una variable\n",
        "lyric = '''Mama, just killed a man\n",
        "Put a gun against his head, pulled my trigger, now he's dead\n",
        "Mama, life had just begun\n",
        "But now I've gone and thrown it all away\n",
        "Mama, ooh, didn't mean to make you cry\n",
        "If I'm not back again this time tomorrow\n",
        "Carry on, carry on as if nothing really matters'''"
      ],
      "metadata": {
        "id": "WxE2c6WQlkce"
      },
      "execution_count": null,
      "outputs": []
    },
    {
      "cell_type": "code",
      "source": [
        "print(lyric)"
      ],
      "metadata": {
        "id": "idKcS5MSxaux"
      },
      "execution_count": null,
      "outputs": []
    },
    {
      "cell_type": "code",
      "source": [
        "#Método upper.\n",
        "print(lyric.upper())"
      ],
      "metadata": {
        "id": "HuDz8rOMwQcE"
      },
      "execution_count": null,
      "outputs": []
    },
    {
      "cell_type": "code",
      "source": [
        "#Método lower.\n",
        "print(lyric.lower())"
      ],
      "metadata": {
        "id": "CASuQsraxEl_"
      },
      "execution_count": null,
      "outputs": []
    }
  ]
}