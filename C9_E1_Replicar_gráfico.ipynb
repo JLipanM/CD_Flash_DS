{
  "nbformat": 4,
  "nbformat_minor": 0,
  "metadata": {
    "colab": {
      "provenance": [],
      "authorship_tag": "ABX9TyMHad6x5C4lkyaVGDOAlpvk",
      "include_colab_link": true
    },
    "kernelspec": {
      "name": "python3",
      "display_name": "Python 3"
    },
    "language_info": {
      "name": "python"
    }
  },
  "cells": [
    {
      "cell_type": "markdown",
      "metadata": {
        "id": "view-in-github",
        "colab_type": "text"
      },
      "source": [
        "<a href=\"https://colab.research.google.com/github/Markohf/CD_Flash_DS/blob/main/C9_E1_Replicar_gr%C3%A1fico.ipynb\" target=\"_parent\"><img src=\"https://colab.research.google.com/assets/colab-badge.svg\" alt=\"Open In Colab\"/></a>"
      ]
    },
    {
      "cell_type": "code",
      "execution_count": null,
      "metadata": {
        "id": "uBR4pOnPEZcu"
      },
      "outputs": [],
      "source": [
        "from google.colab import drive\n",
        "drive.mount('/content/drive')"
      ]
    },
    {
      "cell_type": "code",
      "source": [
        "import pandas as pd\n",
        "import matplotlib.pyplot as plt"
      ],
      "metadata": {
        "id": "gtJNbR5XE2MR"
      },
      "execution_count": null,
      "outputs": []
    },
    {
      "cell_type": "code",
      "source": [
        "data = '/content/drive/MyDrive/Flashcamp - Data Science/BBDD/mortgages.csv'\n",
        "df = pd.read_csv(data)\n",
        "df.head()"
      ],
      "metadata": {
        "id": "RNHuifxxE-D_"
      },
      "execution_count": null,
      "outputs": []
    },
    {
      "cell_type": "code",
      "source": [
        "fil11 = df['Mortgage Name'] == '30 Year'\n",
        "fil12 = df['Interest Rate'] == 0.05\n",
        "df10 = df.loc[fil11 & fil12]\n",
        "df10.head()"
      ],
      "metadata": {
        "id": "FLoQ4pTjFJIB"
      },
      "execution_count": null,
      "outputs": []
    },
    {
      "cell_type": "code",
      "source": [
        "df10['5%_acum'] = df10['Interest Paid'].cumsum()\n",
        "df10.head()"
      ],
      "metadata": {
        "id": "IddnfSvPGblC"
      },
      "execution_count": null,
      "outputs": []
    },
    {
      "cell_type": "code",
      "source": [
        "fil11 = df['Mortgage Name'] == '30 Year'\n",
        "fil12 = df['Interest Rate'] == 0.03\n",
        "df11 = df.loc[fil11 & fil12]\n",
        "df11['3%_acum'] = df11['Interest Paid'].cumsum()\n",
        "df11.head()"
      ],
      "metadata": {
        "id": "Ugs6efk_H6MI"
      },
      "execution_count": null,
      "outputs": []
    },
    {
      "cell_type": "code",
      "source": [
        "x = df10['Month']\n",
        "y3 = df11['3%_acum']\n",
        "y5 = df10['5%_acum']\n",
        "plt.figure(dpi = 100)\n",
        "plt.plot(x,y3,'b')\n",
        "plt.plot(x,y5,'k')\n",
        "plt.show"
      ],
      "metadata": {
        "id": "yCu_Mzz0ICWT"
      },
      "execution_count": null,
      "outputs": []
    }
  ]
}