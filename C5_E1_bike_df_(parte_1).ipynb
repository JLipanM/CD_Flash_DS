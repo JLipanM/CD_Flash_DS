{
  "nbformat": 4,
  "nbformat_minor": 0,
  "metadata": {
    "colab": {
      "provenance": [],
      "authorship_tag": "ABX9TyNjCMi3Uyx5T43A5VmCBfxI",
      "include_colab_link": true
    },
    "kernelspec": {
      "name": "python3",
      "display_name": "Python 3"
    },
    "language_info": {
      "name": "python"
    }
  },
  "cells": [
    {
      "cell_type": "markdown",
      "metadata": {
        "id": "view-in-github",
        "colab_type": "text"
      },
      "source": [
        "<a href=\"https://colab.research.google.com/github/Markohf/CD_Flash_DS/blob/main/C5_E1_bike_df_(parte_1).ipynb\" target=\"_parent\"><img src=\"https://colab.research.google.com/assets/colab-badge.svg\" alt=\"Open In Colab\"/></a>"
      ]
    },
    {
      "cell_type": "markdown",
      "source": [
        "#Ejercicio de filtrado de datos\n",
        "\n",
        "Carga el archivo bike_df y resuelve las siguiente preguntas:\n",
        "\n",
        "* Filtra los valores que en la columna \"Change 2019-2020\" esten entre el 50% y el 90%.\n",
        "* Filtra los valores que en la columna \"2019 counts (31 counters)\" sean mayores a 80000 y guarda dicho corte en una nueva variable.\n",
        "* En el nuevo dataframe generado en la pregunta anterior, genera un corte de los primero 5 datos.\n",
        "* Filtra los valores que en la columna \"Change 2019-2020\" sean menores al 20% o mayores al 90%."
      ],
      "metadata": {
        "id": "TpnkR1mBjDGA"
      }
    }
  ]
}