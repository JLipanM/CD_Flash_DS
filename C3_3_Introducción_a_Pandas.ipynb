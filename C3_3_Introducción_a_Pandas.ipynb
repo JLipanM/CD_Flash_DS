{
  "nbformat": 4,
  "nbformat_minor": 0,
  "metadata": {
    "colab": {
      "provenance": [],
      "mount_file_id": "10vSKx-ugj6KJFvKNHKxJk91tpPphf8yy",
      "authorship_tag": "ABX9TyO7ZQ31J0qHOpYcx0/QpHUy",
      "include_colab_link": true
    },
    "kernelspec": {
      "name": "python3",
      "display_name": "Python 3"
    },
    "language_info": {
      "name": "python"
    }
  },
  "cells": [
    {
      "cell_type": "markdown",
      "metadata": {
        "id": "view-in-github",
        "colab_type": "text"
      },
      "source": [
        "<a href=\"https://colab.research.google.com/github/Markohf/CD_Flash_DS/blob/main/C3_3_Introducci%C3%B3n_a_Pandas.ipynb\" target=\"_parent\"><img src=\"https://colab.research.google.com/assets/colab-badge.svg\" alt=\"Open In Colab\"/></a>"
      ]
    },
    {
      "cell_type": "markdown",
      "source": [
        "# Pandas\n",
        "\n",
        "Pandas es una biblioteca de python al igual que Numpy. Así como Numpy nos ayuda en operaciones matemáticas, Pandas ofrece herramientas para lidiar con bases de datos.\n",
        "\n",
        "Asi como Numpy utiliza los `np.array`; en Pandas utilizaremos los `dataframe` que vendrían a ser como tablas de excel."
      ],
      "metadata": {
        "id": "-PEG6MglNxuj"
      }
    },
    {
      "cell_type": "code",
      "execution_count": null,
      "metadata": {
        "id": "nPdos7HUNsPJ"
      },
      "outputs": [],
      "source": [
        "#Comencemos importando pandas.\n",
        "import pandas as pd"
      ]
    },
    {
      "cell_type": "markdown",
      "source": [
        "Pandas nos permite importar datos en diversos formatos o formas como BBDD SQL, sheets, excel, etc.\n",
        "\n",
        "Ya que estamos usando google colab como entorno de ejecución debemos subir nuestros datos a drive para poder cargarlos al colab."
      ],
      "metadata": {
        "id": "5efE51p3Ojvo"
      }
    },
    {
      "cell_type": "code",
      "source": [
        "#Ahora vamos a importar los datos, antes de esto debes haber conectado tu drive con colab (montar).\n",
        "#Asignamos el nombre de la ruta a una variable.\n",
        "filename = \"/content/drive/MyDrive/Flashcamp - Data Science/BBDD/bostonHousing1978.xlsx\""
      ],
      "metadata": {
        "id": "5TsksIpUOFOM"
      },
      "execution_count": null,
      "outputs": []
    },
    {
      "cell_type": "code",
      "source": [
        "#Creamos el dataframe.\n",
        "df = pd.read_excel(filename)"
      ],
      "metadata": {
        "id": "0ZhlqCqkQycK"
      },
      "execution_count": null,
      "outputs": []
    },
    {
      "cell_type": "markdown",
      "source": [
        "Recuerda que la creación del dataframe puede variar según el formato de la base de datos, en este ejemplo lo estamos haciendo con un archivo excel. Más adelante aprenderemos como importar datos en otros formatos."
      ],
      "metadata": {
        "id": "k5HE76sWRBmO"
      }
    },
    {
      "cell_type": "code",
      "source": [
        "#Visualizamos las primeras filas del dataframe usando el método head.\n",
        "df.head()"
      ],
      "metadata": {
        "id": "cjB_CbIoRHST"
      },
      "execution_count": null,
      "outputs": []
    }
  ]
}