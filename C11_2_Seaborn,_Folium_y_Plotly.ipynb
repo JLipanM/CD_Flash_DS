{
  "nbformat": 4,
  "nbformat_minor": 0,
  "metadata": {
    "colab": {
      "provenance": [],
      "authorship_tag": "ABX9TyPSrCA3WWtlAbWuRp+42zPM",
      "include_colab_link": true
    },
    "kernelspec": {
      "name": "python3",
      "display_name": "Python 3"
    },
    "language_info": {
      "name": "python"
    }
  },
  "cells": [
    {
      "cell_type": "markdown",
      "metadata": {
        "id": "view-in-github",
        "colab_type": "text"
      },
      "source": [
        "<a href=\"https://colab.research.google.com/github/Markohf/CD_Flash_DS/blob/main/C11_2_Seaborn%2C_Folium_y_Plotly.ipynb\" target=\"_parent\"><img src=\"https://colab.research.google.com/assets/colab-badge.svg\" alt=\"Open In Colab\"/></a>"
      ]
    },
    {
      "cell_type": "code",
      "source": [
        "import matplotlib.pyplot as plt"
      ],
      "metadata": {
        "id": "4h3Fs9YXKUFz"
      },
      "execution_count": null,
      "outputs": []
    },
    {
      "cell_type": "markdown",
      "source": [
        "#Seaborn"
      ],
      "metadata": {
        "id": "rrGea4gcKMs6"
      }
    },
    {
      "cell_type": "code",
      "source": [
        "import seaborn as sns"
      ],
      "metadata": {
        "id": "uDVDkYowKZFU"
      },
      "execution_count": null,
      "outputs": []
    },
    {
      "cell_type": "code",
      "execution_count": null,
      "metadata": {
        "id": "e6y_MR64FSAK"
      },
      "outputs": [],
      "source": [
        "#Grafico de lineas\n",
        "#Datos de ejemplo\n",
        "x = [1, 2, 3, 4, 5]\n",
        "y1 = [2, 4, 1, 5, 3]\n",
        "y2 = [1, 3, 2, 4, 5]\n",
        "#Creamos gráfico\n",
        "sns.lineplot(x=x, y=y1, label='Línea 1', marker='o', linestyle='-', markersize=10)\n",
        "sns.scatterplot(x=x, y=y1, color='blue', s=100, label='_nolegend_')\n",
        "sns.lineplot(x=x, y=y2, label='Línea 2', marker='s', linestyle='--', markersize=10)\n",
        "sns.scatterplot(x=x, y=y2, color='orange', s=100, label='_nolegend_')\n",
        "plt.title('Gráfico de Líneas')\n",
        "plt.xlabel('Eje X')\n",
        "plt.ylabel('Eje Y')\n",
        "plt.legend()\n",
        "plt.show()"
      ]
    },
    {
      "cell_type": "code",
      "source": [
        "#Cargamos un conjunto de datos de ejemplo de Seaborn\n",
        "datos_iris = sns.load_dataset(\"iris\")\n",
        "\n",
        "#Creamos un pair plot con Seaborn\n",
        "sns.pairplot(datos_iris, hue=\"species\", markers=[\"o\", \"s\", \"D\"])\n",
        "plt.show()"
      ],
      "metadata": {
        "id": "47V7qSauKmRq"
      },
      "execution_count": null,
      "outputs": []
    },
    {
      "cell_type": "markdown",
      "source": [
        "#Folium"
      ],
      "metadata": {
        "id": "75xkPzuoLtmC"
      }
    },
    {
      "cell_type": "code",
      "source": [
        "import folium"
      ],
      "metadata": {
        "id": "gSnFrqQoLVsc"
      },
      "execution_count": null,
      "outputs": []
    },
    {
      "cell_type": "code",
      "source": [
        "#Coordenadas\n",
        "latitud = -33.4489\n",
        "longitud = -70.6693\n",
        "#Mapa\n",
        "mapa = folium.Map(location=[latitud, longitud])\n",
        "mapa"
      ],
      "metadata": {
        "id": "H0ACS67FMvHY"
      },
      "execution_count": null,
      "outputs": []
    },
    {
      "cell_type": "code",
      "source": [
        "#Coordenadas\n",
        "latitud = -33.4489\n",
        "longitud = -70.6693\n",
        "#Mapa\n",
        "mapa = folium.Map(location=[latitud, longitud], zoom_start=12)\n",
        "#Marcador para Santiago de Chile\n",
        "folium.Marker([latitud, longitud], popup=\"Santiago de Chile\").add_to(mapa)\n",
        "#Capa de información de tráfico\n",
        "folium.TileLayer('Stamen Terrain').add_to(mapa)\n",
        "#Marcador adicional\n",
        "folium.Marker([-33.4372, -70.6506], popup=\"Otro Marcador\").add_to(mapa)\n",
        "#Círculo alrededor del segundo marcador\n",
        "folium.CircleMarker(location=[-33.4372, -70.6506], radius=50, color='red', fill=True, fill_color='red').add_to(mapa)\n",
        "# Mostrar el mapa\n",
        "mapa.save(\"mapa_santiago_completo.html\")"
      ],
      "metadata": {
        "id": "8ISEoNDZM_Du"
      },
      "execution_count": null,
      "outputs": []
    },
    {
      "cell_type": "markdown",
      "source": [
        "#Plotly"
      ],
      "metadata": {
        "id": "Gl1IF-lFOtkx"
      }
    },
    {
      "cell_type": "code",
      "source": [
        "import plotly.express as px"
      ],
      "metadata": {
        "id": "zwB-Hv6MOwmA"
      },
      "execution_count": null,
      "outputs": []
    },
    {
      "cell_type": "code",
      "source": [
        "#Datos de ejemplo\n",
        "datos = px.data.tips()\n",
        "#Gráfico\n",
        "fig = px.box(datos, x=\"day\", y=\"total_bill\", points=\"all\", title=\"Boxplot de Total Bill por Día\")\n",
        "#Mostrar el gráfico\n",
        "fig.show()\n"
      ],
      "metadata": {
        "id": "RAJKsi-AOvnX"
      },
      "execution_count": null,
      "outputs": []
    },
    {
      "cell_type": "code",
      "source": [
        "#Datos de ejemplo\n",
        "datos = px.data.tips()\n",
        "#Creamos gráfico con diversos parametros\n",
        "fig = px.box(datos,\n",
        "             x=\"day\",\n",
        "             y=\"total_bill\",\n",
        "             points=\"all\",\n",
        "             title=\"Boxplot de Total Bill por Día\",\n",
        "             color=\"sex\",  # Agregar color por género\n",
        "             hover_data=[\"smoker\"],  # Información adicional al pasar el mouse\n",
        "             notched=True,  # Agregar muescas en los boxplots\n",
        "             labels={\"total_bill\": \"Monto Total de la Cuenta\"},  # Cambiar etiquetas de ejes\n",
        "             boxmode=\"group\"  # Agrupar los boxplots\n",
        "             )\n",
        "#Otras personalizaciones\n",
        "fig.update_layout(\n",
        "    yaxis=dict(title='Monto Total de la Cuenta'),\n",
        "    boxgap=0.1,  # Espaciado entre los boxplots\n",
        "    boxgroupgap=0.05  # Espaciado entre los grupos de boxplots\n",
        ")\n",
        "# Mostrar el gráfico\n",
        "fig.show()\n"
      ],
      "metadata": {
        "id": "mi3i4m5EO61l"
      },
      "execution_count": null,
      "outputs": []
    },
    {
      "cell_type": "code",
      "source": [
        "#Datos de ejemplo\n",
        "datos = px.data.gapminder()\n",
        "#Filtro\n",
        "datos_2007 = datos[datos['year'] == 2007]\n",
        "#Gráfico de burbujas en 2D\n",
        "fig = px.scatter(datos_2007,\n",
        "                 x='gdpPercap',\n",
        "                 y='lifeExp',\n",
        "                 size='pop',  # Tamaño de las burbujas basado en la población\n",
        "                 color='continent',  # Color por continente\n",
        "                 hover_name='country',  # Información adicional al pasar el mouse\n",
        "                 title='Gráfico de Burbujas en 2D (Año 2007)')\n",
        "\n",
        "#Personalizar diseño\n",
        "fig.update_layout(\n",
        "    xaxis=dict(title='PIB per cápita'),\n",
        "    yaxis=dict(title='Expectativa de Vida'),\n",
        "    showlegend=True  # Mostrar leyenda\n",
        ")\n",
        "#Mostrar el gráfico\n",
        "fig.show()"
      ],
      "metadata": {
        "id": "IZ3WcT7YPY-w"
      },
      "execution_count": null,
      "outputs": []
    },
    {
      "cell_type": "code",
      "source": [
        "#Datos de ejemplo\n",
        "datos = px.data.gapminder()\n",
        "#Filtro\n",
        "datos_2007 = datos[datos['year'] == 2007]\n",
        "#Gráfico de burbujas en 3D\n",
        "fig = px.scatter_3d(datos_2007,\n",
        "                    x='gdpPercap',\n",
        "                    y='lifeExp',\n",
        "                    z='pop',  # Eje z: Población\n",
        "                    size='pop',  # Tamaño de las burbujas basado en la población\n",
        "                    color='continent',  # Color por continente\n",
        "                    hover_name='country',  # Información adicional al pasar el mouse\n",
        "                    title='Gráfico de Burbujas en 3D (Año 2007)')\n",
        "#Personalizar\n",
        "fig.update_layout(\n",
        "    scene=dict(\n",
        "        xaxis=dict(title='PIB per cápita'),\n",
        "        yaxis=dict(title='Expectativa de Vida'),\n",
        "        zaxis=dict(title='Población')\n",
        "    )\n",
        ")\n",
        "#Mostrar el gráfico\n",
        "fig.show()"
      ],
      "metadata": {
        "id": "5oj7JamOQKH1"
      },
      "execution_count": null,
      "outputs": []
    }
  ]
}