{
  "nbformat": 4,
  "nbformat_minor": 0,
  "metadata": {
    "colab": {
      "provenance": [],
      "authorship_tag": "ABX9TyNozdf9WKjR0lkL15kH9pLV",
      "include_colab_link": true
    },
    "kernelspec": {
      "name": "python3",
      "display_name": "Python 3"
    },
    "language_info": {
      "name": "python"
    }
  },
  "cells": [
    {
      "cell_type": "markdown",
      "metadata": {
        "id": "view-in-github",
        "colab_type": "text"
      },
      "source": [
        "<a href=\"https://colab.research.google.com/github/Markohf/CD_Flash_DS/blob/main/C5_1_Pandas_basico.ipynb\" target=\"_parent\"><img src=\"https://colab.research.google.com/assets/colab-badge.svg\" alt=\"Open In Colab\"/></a>"
      ]
    },
    {
      "cell_type": "markdown",
      "source": [
        "#Pandas\n",
        "\n",
        "Pandas es una biblioteca que nos permite manipural tabla o BBDD de una forma sencilla.\n",
        "\n",
        "Así como Numpy nos da la estructura `numpy.array` la cual nos permite hacer calculos de forma sencilla con conjuntos de datos; pandas nos entrega la estructura `dataframe`, la cual nos permitie manipular BBDD."
      ],
      "metadata": {
        "id": "qFTbAdgo8WTO"
      }
    },
    {
      "cell_type": "code",
      "execution_count": null,
      "metadata": {
        "id": "z6ZqM-Be7-XQ"
      },
      "outputs": [],
      "source": [
        "#Montamos drive\n",
        "from google.colab import drive\n",
        "drive.mount('/content/drive')"
      ]
    },
    {
      "cell_type": "code",
      "source": [
        "#Importamos la librería.\n",
        "import pandas as pd\n",
        "#Guardamos la ruta del archivo en una variable.\n",
        "filename = \"/content/drive/MyDrive/Flashcamp - Data Science/BBDD/bostonHousing1978.csv\"\n",
        "#Convertimos el archivo en un dataframe y lo guardamos en la variable df.\n",
        "df = pd.read_csv(filename)\n",
        "#Revisamos el dataframe usando el método head.\n",
        "df.head()"
      ],
      "metadata": {
        "id": "2-CaoWNN9qq6"
      },
      "execution_count": null,
      "outputs": []
    },
    {
      "cell_type": "markdown",
      "source": [
        "##Operaciones básicas y métodos\n",
        "\n",
        "Como vemos cada fila está indexada y cada columna tiene un nombre (encabezado).\n",
        "\n",
        "Al igual como en las listas, tuplas y diccionarios podemos ingresar al contenido con cierta sintaxis, tambien lo podemos hacer con los dataframe."
      ],
      "metadata": {
        "id": "qg865yWZ-AZQ"
      }
    },
    {
      "cell_type": "code",
      "source": [
        "#Ingresar a las columnas:\n",
        "df[\"RM\"]"
      ],
      "metadata": {
        "id": "b7lL7ThP9-Xw"
      },
      "execution_count": null,
      "outputs": []
    },
    {
      "cell_type": "code",
      "source": [
        "#Nos muestra los tipos de dato por columna.\n",
        "df.dtypes"
      ],
      "metadata": {
        "id": "WGdpN83U_Sg1"
      },
      "execution_count": null,
      "outputs": []
    },
    {
      "cell_type": "code",
      "source": [
        "#Nos muestra las dimensiones del dataframe.\n",
        "df.shape"
      ],
      "metadata": {
        "id": "p3-UpcpZ_Zgf"
      },
      "execution_count": null,
      "outputs": []
    },
    {
      "cell_type": "code",
      "source": [
        "#Nos muestra diversa información del dataframe, pero sobre todo si hay nulls.\n",
        "df.info()"
      ],
      "metadata": {
        "id": "okNmwlfL_eRq"
      },
      "execution_count": null,
      "outputs": []
    },
    {
      "cell_type": "code",
      "source": [
        "#Volviendo a las formas de acceder a las columnas, lo podemos hacer tambien de esta forma y usando métodos en combinación.\n",
        "df[['RM']].head()"
      ],
      "metadata": {
        "id": "atwEFhv0_iJL"
      },
      "execution_count": null,
      "outputs": []
    },
    {
      "cell_type": "code",
      "source": [
        "#Podemos hacer corte de varias columnas de esta forma.\n",
        "df[['RM', 'target']].head()"
      ],
      "metadata": {
        "id": "ljS2oqr_mryN"
      },
      "execution_count": null,
      "outputs": []
    },
    {
      "cell_type": "code",
      "source": [
        "#Podemos ingresar tambien a indices especificos de los cortes que hagamos.\n",
        "df[['RM', 'target']][5:10]"
      ],
      "metadata": {
        "id": "pUSLWB3RmzXU"
      },
      "execution_count": null,
      "outputs": []
    },
    {
      "cell_type": "code",
      "source": [
        "#El metodo loc nos permite ingresar tambien de forma mas flexible a regiones de nuestro df.\n",
        "df.loc[2:15,['RM', 'target']]"
      ],
      "metadata": {
        "id": "K7S0ShuRnAmc"
      },
      "execution_count": null,
      "outputs": []
    }
  ]
}