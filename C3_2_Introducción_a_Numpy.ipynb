{
  "nbformat": 4,
  "nbformat_minor": 0,
  "metadata": {
    "colab": {
      "provenance": [],
      "authorship_tag": "ABX9TyN32NiLV0JsaJ7xmbDsSX0M",
      "include_colab_link": true
    },
    "kernelspec": {
      "name": "python3",
      "display_name": "Python 3"
    },
    "language_info": {
      "name": "python"
    }
  },
  "cells": [
    {
      "cell_type": "markdown",
      "metadata": {
        "id": "view-in-github",
        "colab_type": "text"
      },
      "source": [
        "<a href=\"https://colab.research.google.com/github/Markohf/CD_Flash_DS/blob/main/C3_2_Introducci%C3%B3n_a_Numpy.ipynb\" target=\"_parent\"><img src=\"https://colab.research.google.com/assets/colab-badge.svg\" alt=\"Open In Colab\"/></a>"
      ]
    },
    {
      "cell_type": "markdown",
      "source": [
        "#Introducción a Numpy\n",
        "\n",
        "Numpy es una biblioteca de python que nos facilita la tarea de hacer operaciones matemáticas en python.\n",
        "\n",
        "Aprenderemos a usar algunas funciones de Numpy realizando un ejercicio."
      ],
      "metadata": {
        "id": "ByarZTb84U1I"
      }
    },
    {
      "cell_type": "markdown",
      "source": [
        "## Ejercicio\n",
        "\n",
        "Suponga que unos jóvenes de un club de tecnología le piden ayuda para analizar los datos de sus ventas de pasteles. Ellos esperan haber reunido $200.\n",
        "\n",
        "**Lista de precios**:\n",
        "\n",
        "El precio los 3 artículos de la venta de pasteles es: 2 USD por un brownie, 1 USD por una galleta y 10 USD por un pastel."
      ],
      "metadata": {
        "id": "_kDS8ja16Y58"
      }
    },
    {
      "cell_type": "code",
      "execution_count": null,
      "metadata": {
        "id": "0n4FZwv003Zf"
      },
      "outputs": [],
      "source": [
        "#Creamos una lista llamada \"price\" que contiene los precios.\n",
        "price = [2, 1, 10]\n",
        "type(price)"
      ]
    },
    {
      "cell_type": "markdown",
      "source": [
        "**Lista de cantidades**:\n",
        "\n",
        "El club vende 17 brownies, 40 galletas y 1 pastel."
      ],
      "metadata": {
        "id": "pkrtpqTb63q4"
      }
    },
    {
      "cell_type": "code",
      "source": [
        "#Creamos una lista llamada \"quantity_sold\" que contiene las cantidades vendidas.\n",
        "quantity_sold = [17, 40, 1]\n",
        "type(quantity_sold)"
      ],
      "metadata": {
        "id": "ZAgG3JAQ64eu"
      },
      "execution_count": null,
      "outputs": []
    },
    {
      "cell_type": "markdown",
      "source": [
        "Si tratamos de hallar cuanto se recaudó con la venta haciendo una opración de forma rápida usando estas listas veremos que no podemos."
      ],
      "metadata": {
        "id": "J9Mg7Qdi71vL"
      }
    },
    {
      "cell_type": "code",
      "source": [
        "resultado = price * quantity_sold\n",
        "print(resultado)"
      ],
      "metadata": {
        "id": "8P-G1QtE7JvI"
      },
      "execution_count": null,
      "outputs": []
    },
    {
      "cell_type": "markdown",
      "source": [
        "Ahora haremos hacer lo mismo, pero usando Numpy."
      ],
      "metadata": {
        "id": "hV8qmA8C8L--"
      }
    },
    {
      "cell_type": "code",
      "source": [
        "#Impotamos la libreria\n",
        "import numpy as np"
      ],
      "metadata": {
        "id": "R8JnS8li7-gl"
      },
      "execution_count": null,
      "outputs": []
    },
    {
      "cell_type": "markdown",
      "source": [
        "Numpy trabaja con un tipo de dato llamado `numpy.array` que nos permite hacer operaciones con arreglos de una forma sencilla.\n",
        "\n",
        "Recordemos que los arreglos son agrupaciones ordenadas de elementos como por ejemplo las listas.\n",
        "\n",
        "Por esta razón antes de trabajar con las listas debemos convertirlas a `numpy.array`."
      ],
      "metadata": {
        "id": "dYhlWLJN9C5R"
      }
    },
    {
      "cell_type": "code",
      "source": [
        "#Convertimos cada lista en un np.array.\n",
        "price_array = np.array(price)\n",
        "quantity_sold_array = np.array(quantity_sold)\n",
        "print(type(price_array))\n",
        "print(type(quantity_sold_array))"
      ],
      "metadata": {
        "id": "PqCCOaqm9CGi"
      },
      "execution_count": null,
      "outputs": []
    },
    {
      "cell_type": "code",
      "source": [
        "#vemos que el contenido es el mismo, solo hemos creado 2 nuevos np.array en base a las listas.\n",
        "print(price_array)\n",
        "print(quantity_sold_array)"
      ],
      "metadata": {
        "id": "12pp6dztogri"
      },
      "execution_count": null,
      "outputs": []
    },
    {
      "cell_type": "code",
      "source": [
        "#Ahora si podemos obtener el ingreso obtenido de cada producto.\n",
        "income_array = price_array * quantity_sold_array\n",
        "print(income_array)"
      ],
      "metadata": {
        "id": "kDWycRrRo26Q"
      },
      "execution_count": null,
      "outputs": []
    },
    {
      "cell_type": "code",
      "source": [
        "#Para obtener el ingreso total usamos el método suma.\n",
        "print(income_array.sum())"
      ],
      "metadata": {
        "id": "DbociTyGpAeG"
      },
      "execution_count": null,
      "outputs": []
    },
    {
      "cell_type": "markdown",
      "source": [
        "Ahora vamos a calculas la ganancia de cada item y total quitandole el costo a los ingresos. Para esto crearemos un `np.array` de 0."
      ],
      "metadata": {
        "id": "h9clPBTNpotV"
      }
    },
    {
      "cell_type": "code",
      "source": [
        "#Creamos un array de 0 con los costos que son 0.25 po brownie, 0.50 por galleta y 5.00 por pastel.\n",
        "cost_array = np.array([0.25, 0.50, 5.00])"
      ],
      "metadata": {
        "id": "9PsHG0E9pzDI"
      },
      "execution_count": null,
      "outputs": []
    },
    {
      "cell_type": "code",
      "source": [
        "#Obtenemos el costo total multiplicando el costo unitario por item.\n",
        "total_cost_array = cost_array * quantity_sold_array\n",
        "print(total_cost_array)\n",
        "#Obtenemos la ganancia por item.\n",
        "profit_array = income_array - total_cost_array\n",
        "print(profit_array)\n",
        "#Obtenemos la ganancia total\n",
        "answer = profit_array.sum()\n",
        "print(answer)"
      ],
      "metadata": {
        "id": "k4IAClZqqCAn"
      },
      "execution_count": null,
      "outputs": []
    },
    {
      "cell_type": "markdown",
      "source": [
        "##Operaciones en un np.array"
      ],
      "metadata": {
        "id": "YWR-QxrRxKki"
      }
    },
    {
      "cell_type": "code",
      "source": [
        "#Creamos un np.array.\n",
        "array1 = np.array([12, 1, 45, 0, 15, 5, 30, 25, 20, 13, 23])"
      ],
      "metadata": {
        "id": "Jdnk2qSYxS9C"
      },
      "execution_count": null,
      "outputs": []
    },
    {
      "cell_type": "code",
      "source": [
        "#Podemos hacer consultas al np.array\n",
        "array1 > 20"
      ],
      "metadata": {
        "id": "KUrq2icYxlIO"
      },
      "execution_count": null,
      "outputs": []
    },
    {
      "cell_type": "code",
      "source": [
        "#Aplicar operaciones a todo el arreglo\n",
        "array2 = array1 + 1\n",
        "print(array2)"
      ],
      "metadata": {
        "id": "DePltiJYxr4D"
      },
      "execution_count": null,
      "outputs": []
    },
    {
      "cell_type": "code",
      "source": [
        "#Insertar datos\n",
        "array3 = np.append(array2, [1, 1, 1])\n",
        "print(array3)"
      ],
      "metadata": {
        "id": "MyBamCE9ytxb"
      },
      "execution_count": null,
      "outputs": []
    },
    {
      "cell_type": "code",
      "source": [
        "#Eliminar datos\n",
        "array4 = np.delete(array3, -1)\n",
        "print(array4)"
      ],
      "metadata": {
        "id": "iCPNw-BC0XsV"
      },
      "execution_count": null,
      "outputs": []
    }
  ]
}