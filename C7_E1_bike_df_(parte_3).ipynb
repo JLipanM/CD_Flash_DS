{
  "nbformat": 4,
  "nbformat_minor": 0,
  "metadata": {
    "colab": {
      "provenance": [],
      "mount_file_id": "1ctYEACyisuKdeuidpp6_U4wwYZANDnwN",
      "authorship_tag": "ABX9TyPV2esWdFQp42/1KPeaQuwW",
      "include_colab_link": true
    },
    "kernelspec": {
      "name": "python3",
      "display_name": "Python 3"
    },
    "language_info": {
      "name": "python"
    }
  },
  "cells": [
    {
      "cell_type": "markdown",
      "metadata": {
        "id": "view-in-github",
        "colab_type": "text"
      },
      "source": [
        "<a href=\"https://colab.research.google.com/github/Markohf/CD_Flash_DS/blob/main/C7_E1_bike_df_(parte_3).ipynb\" target=\"_parent\"><img src=\"https://colab.research.google.com/assets/colab-badge.svg\" alt=\"Open In Colab\"/></a>"
      ]
    },
    {
      "cell_type": "markdown",
      "source": [
        "#Ejercicio limpieza de datos\n",
        "\n",
        "Analicen y limpien el df (trabajar datos faltantes)."
      ],
      "metadata": {
        "id": "MAbFTPE3lAdw"
      }
    },
    {
      "cell_type": "code",
      "source": [
        "import pandas as pd\n",
        "filename = \"/content/drive/MyDrive/Flashcamp - Data Science/BBDD/bike_df.xlsx\"\n",
        "df = pd.read_excel(filename)\n",
        "df.head()"
      ],
      "metadata": {
        "id": "4jtODM11SSMk"
      },
      "execution_count": null,
      "outputs": []
    },
    {
      "cell_type": "code",
      "source": [
        "df.info()"
      ],
      "metadata": {
        "id": "m1GeWYx4Si86"
      },
      "execution_count": null,
      "outputs": []
    },
    {
      "cell_type": "code",
      "source": [
        "#Dropeamos la columa 7, 8 y 9\n",
        "df = df.drop(columns=['Unnamed: 7', 'Unnamed: 8', 'Unnamed: 9'])\n",
        "df.info()"
      ],
      "metadata": {
        "id": "Md7tFYYxStUI"
      },
      "execution_count": null,
      "outputs": []
    },
    {
      "cell_type": "code",
      "source": [
        "#2020vs2019\n",
        "df.columns = ['timeframe', 'week_of', 'counts_2019',\n",
        "       'counts_2020', 'counts_2021', 'change_2019-2020', 'percent_change']\n",
        "df.info()"
      ],
      "metadata": {
        "id": "Pf634HR9YKaJ"
      },
      "execution_count": null,
      "outputs": []
    },
    {
      "cell_type": "code",
      "source": [
        "df.isna().sum()"
      ],
      "metadata": {
        "id": "ecdMDKBZgmq3"
      },
      "execution_count": null,
      "outputs": []
    },
    {
      "cell_type": "code",
      "source": [
        "df['counts_2021'].fillna(0, inplace=True)\n",
        "df.info()"
      ],
      "metadata": {
        "id": "-VJ4nXmCgFP4"
      },
      "execution_count": null,
      "outputs": []
    },
    {
      "cell_type": "code",
      "source": [
        "df.head()"
      ],
      "metadata": {
        "id": "5Zg31wG1ic_i"
      },
      "execution_count": null,
      "outputs": []
    }
  ]
}