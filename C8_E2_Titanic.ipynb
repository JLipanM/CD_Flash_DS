{
  "nbformat": 4,
  "nbformat_minor": 0,
  "metadata": {
    "colab": {
      "provenance": [],
      "authorship_tag": "ABX9TyOm5spJUaF5w8MzeI7ovcMk",
      "include_colab_link": true
    },
    "kernelspec": {
      "name": "python3",
      "display_name": "Python 3"
    },
    "language_info": {
      "name": "python"
    }
  },
  "cells": [
    {
      "cell_type": "markdown",
      "metadata": {
        "id": "view-in-github",
        "colab_type": "text"
      },
      "source": [
        "<a href=\"https://colab.research.google.com/github/Markohf/CD_Flash_DS/blob/main/C8_E2_Titanic.ipynb\" target=\"_parent\"><img src=\"https://colab.research.google.com/assets/colab-badge.svg\" alt=\"Open In Colab\"/></a>"
      ]
    },
    {
      "cell_type": "code",
      "execution_count": null,
      "metadata": {
        "id": "Jm0cnRRt3JKM"
      },
      "outputs": [],
      "source": [
        "from google.colab import drive\n",
        "drive.mount('/content/drive')"
      ]
    },
    {
      "cell_type": "code",
      "source": [
        "import pandas as pd"
      ],
      "metadata": {
        "id": "oQFdGvLnZoz4"
      },
      "execution_count": null,
      "outputs": []
    },
    {
      "cell_type": "code",
      "source": [
        "data = \"/content/drive/MyDrive/Flashcamp - Data Science/BBDD/titanic.csv\"\n",
        "df = pd.read_csv(data)\n",
        "df.head()"
      ],
      "metadata": {
        "id": "5nKzYTN6ZbEP"
      },
      "execution_count": null,
      "outputs": []
    },
    {
      "cell_type": "code",
      "source": [
        "df.info()"
      ],
      "metadata": {
        "id": "2CYVET_1b8RZ"
      },
      "execution_count": null,
      "outputs": []
    },
    {
      "cell_type": "markdown",
      "source": [
        "##1. Muestren la cabecera del dataframe."
      ],
      "metadata": {
        "id": "9TvBonqvZ_3_"
      }
    },
    {
      "cell_type": "code",
      "source": [
        "df.columns"
      ],
      "metadata": {
        "id": "QibzKql-Z2mB"
      },
      "execution_count": null,
      "outputs": []
    },
    {
      "cell_type": "markdown",
      "source": [
        "##2. ¿Qué porcentaje de las personas sobrevivió?"
      ],
      "metadata": {
        "id": "-E2N1unZaIBm"
      }
    },
    {
      "cell_type": "code",
      "source": [
        "rspta2 = sum(df['Survived'] == 1) / len(df['Survived'])\n",
        "print(\"Sobrevivió el\", round((rspta2 * 100), 2), \"% de las personas.\")"
      ],
      "metadata": {
        "id": "pi5vwh-_auxv"
      },
      "execution_count": null,
      "outputs": []
    },
    {
      "cell_type": "markdown",
      "source": [
        "##3. ¿Cuántos de cada sexo sobrevivieron?"
      ],
      "metadata": {
        "id": "-myZmbe2aZnl"
      }
    },
    {
      "cell_type": "code",
      "source": [
        "df.groupby(['Sex'])[['Survived']].sum()"
      ],
      "metadata": {
        "id": "pH79pZvEc63C"
      },
      "execution_count": null,
      "outputs": []
    },
    {
      "cell_type": "markdown",
      "source": [
        "Sobrevivieron 233 mujeres y 109 hombres."
      ],
      "metadata": {
        "id": "NHHHzRD0eiyq"
      }
    },
    {
      "cell_type": "markdown",
      "source": [
        "##4. Si considera solo el grupo de pasajeros que pagó menos de $10, ¿cuál sería el porcentaje de este grupo que sobrevivió?"
      ],
      "metadata": {
        "id": "kUacfpMTaccP"
      }
    },
    {
      "cell_type": "code",
      "source": [
        "fil1 = df[df['Fare'] < 10]\n",
        "rspta4 = sum(fil1['Survived'] == 1) / len(fil1['Survived'])\n",
        "print(\"Sobrevivieron el\", round((rspta4 * 100), 2), \"% de los pasajeros cuyos tickets costaron menos de 10 USD.\")"
      ],
      "metadata": {
        "id": "jRCE-Pq5fGnk"
      },
      "execution_count": null,
      "outputs": []
    },
    {
      "cell_type": "markdown",
      "source": [
        "##5. En total, ¿cuál es la edad promedio de los que no sobrevivieron?"
      ],
      "metadata": {
        "id": "i-xA13wCafgN"
      }
    },
    {
      "cell_type": "code",
      "source": [
        "rspta5 = round(df['Age'][df['Survived'] == 0].mean())\n",
        "print(\"La edad promedio de los que no sobrevivieron es\", rspta5, \"años.\")"
      ],
      "metadata": {
        "id": "aGpP-Cthg4TS"
      },
      "execution_count": null,
      "outputs": []
    },
    {
      "cell_type": "markdown",
      "source": [
        "##6. En total, ¿cuál es la edad promedio de los que sobrevivieron?"
      ],
      "metadata": {
        "id": "0kQuTj3Dajb-"
      }
    },
    {
      "cell_type": "code",
      "source": [
        "rspta6 = round(df['Age'][df['Survived'] == 1].mean())\n",
        "print(\"La edad promedio de los que sobrevivieron es\", rspta6, \"años.\")"
      ],
      "metadata": {
        "id": "VmR1IYAIi3s4"
      },
      "execution_count": null,
      "outputs": []
    },
    {
      "cell_type": "markdown",
      "source": [
        "##7. ¿Cuál es el promedio de edad de los que sobrevivieron y los que no sobrevivieron agrupado por sexo?"
      ],
      "metadata": {
        "id": "_jTt25UUamP5"
      }
    },
    {
      "cell_type": "code",
      "source": [
        "df.groupby(['Sex','Survived'])[['Age']].mean().round()"
      ],
      "metadata": {
        "id": "tPxKphUBjB4A"
      },
      "execution_count": null,
      "outputs": []
    }
  ]
}