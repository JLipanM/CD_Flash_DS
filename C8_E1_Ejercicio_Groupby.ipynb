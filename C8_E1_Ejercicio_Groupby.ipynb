{
  "nbformat": 4,
  "nbformat_minor": 0,
  "metadata": {
    "colab": {
      "provenance": [],
      "authorship_tag": "ABX9TyPlCfBkuW8ig+k1nmIHDggv",
      "include_colab_link": true
    },
    "kernelspec": {
      "name": "python3",
      "display_name": "Python 3"
    },
    "language_info": {
      "name": "python"
    }
  },
  "cells": [
    {
      "cell_type": "markdown",
      "metadata": {
        "id": "view-in-github",
        "colab_type": "text"
      },
      "source": [
        "<a href=\"https://colab.research.google.com/github/Markohf/CD_Flash_DS/blob/main/C8_E1_Ejercicio_Groupby.ipynb\" target=\"_parent\"><img src=\"https://colab.research.google.com/assets/colab-badge.svg\" alt=\"Open In Colab\"/></a>"
      ]
    },
    {
      "cell_type": "code",
      "execution_count": null,
      "metadata": {
        "id": "QATZBqrTtFJ9"
      },
      "outputs": [],
      "source": [
        "import pandas as pd"
      ]
    },
    {
      "cell_type": "code",
      "source": [
        "df = pd.read_csv('https://raw.githubusercontent.com/mGalarnyk/Tutorial_Data/master/Pandas/CalIt2.data', header = None)\n",
        "df.head()"
      ],
      "metadata": {
        "id": "ewgrnHFItguj"
      },
      "execution_count": null,
      "outputs": []
    },
    {
      "cell_type": "markdown",
      "source": [
        "##Parte 1: Renombrar Columnas\n",
        "\n",
        "* Renombrar columna 0 a “Flow_ID”\n",
        "* Renombrar columna 1 a “Date”\n",
        "* Renombrar columna 2 a “Time”\n",
        "* Renombrar columna 3 a “Count”"
      ],
      "metadata": {
        "id": "dik0gCrNt1hw"
      }
    },
    {
      "cell_type": "code",
      "source": [
        "df.columns = ['Flow_ID', 'Date', 'Time', 'Count']\n",
        "df.info()"
      ],
      "metadata": {
        "id": "i12ye9pgtoeH"
      },
      "execution_count": null,
      "outputs": []
    },
    {
      "cell_type": "markdown",
      "source": [
        "##Parte 2: Seleccionar Datos\n",
        "\n",
        "* Seleccionar todos los datos para la fecha 24 de julio de 2005 con un Flow_Id = 7.\n",
        "* Con los datos seleccionados en el paso 1, ordenen el resultado en Count en orden descendiente y saquen las 10 primeras filas. Asignen la salida a una variable llamada top 10."
      ],
      "metadata": {
        "id": "ria_pvpTuWeE"
      }
    },
    {
      "cell_type": "code",
      "source": [
        "df['Date'] = pd.to_datetime(df['Date'])\n",
        "df.info()"
      ],
      "metadata": {
        "id": "WCQbK7ycuNvZ"
      },
      "execution_count": null,
      "outputs": []
    },
    {
      "cell_type": "code",
      "source": [
        "fecha_objetivo = pd.to_datetime('07/24/05')\n",
        "fil1 = df[df['Date'] == fecha_objetivo]\n",
        "fil1.head()"
      ],
      "metadata": {
        "id": "s8UntIDEuz1M"
      },
      "execution_count": null,
      "outputs": []
    },
    {
      "cell_type": "code",
      "source": [
        "fil1 = fil1.sort_values(by = 'Count', ascending = False)\n",
        "top10 = fil1.head(10)\n",
        "top10"
      ],
      "metadata": {
        "id": "lAhBQt1nvPk7"
      },
      "execution_count": null,
      "outputs": []
    },
    {
      "cell_type": "markdown",
      "source": [
        "##Parte 3: Aplicar función\n",
        "Para las 10 filas que aparecen arriba, utilice la función Apply de Pandas para restar el valor más bajo de los 10 de todos ellos y luego obtengan el valor promedio de los recuentos resultantes."
      ],
      "metadata": {
        "id": "AA2LCKp60GU-"
      }
    },
    {
      "cell_type": "code",
      "source": [
        "count_min = top10['Count'].min()\n",
        "print(count_min)"
      ],
      "metadata": {
        "id": "k-ZJ51bVyY0z"
      },
      "execution_count": null,
      "outputs": []
    },
    {
      "cell_type": "code",
      "source": [
        "def form1(x):\n",
        "    return x - count_min\n",
        "top10['Count'] = top10['Count'].apply(form1)\n",
        "top10"
      ],
      "metadata": {
        "id": "H7KLyxfMygIR"
      },
      "execution_count": null,
      "outputs": []
    },
    {
      "cell_type": "code",
      "source": [
        "count_mean = top10['Count'].mean()\n",
        "print(count_mean)"
      ],
      "metadata": {
        "colab": {
          "base_uri": "https://localhost:8080/"
        },
        "id": "1cYhfIy6v9iY",
        "outputId": "552fd7fb-c105-4e71-af06-b5adba718f95"
      },
      "execution_count": null,
      "outputs": [
        {
          "output_type": "stream",
          "name": "stdout",
          "text": [
            "0.6\n"
          ]
        }
      ]
    },
    {
      "cell_type": "markdown",
      "source": [
        "##Parte 4: Agrupar\n",
        "\n",
        "* Seleccionar los datos en el mes de agosto 2005 con un flow id = 7.\n",
        "* Agrupar los datos en función de la fecha y obtener el recuento máximo por fecha."
      ],
      "metadata": {
        "id": "_yTOXjZK0RMl"
      }
    },
    {
      "cell_type": "code",
      "source": [
        "df"
      ],
      "metadata": {
        "id": "wF-voToL0UB3"
      },
      "execution_count": null,
      "outputs": []
    },
    {
      "cell_type": "code",
      "source": [
        "fil_ago_05 = df[(df['Date'].dt.month == 8) & (df['Date'].dt.year == 2005) & (df['Flow_ID'] == 7)]\n",
        "fil_ago_05"
      ],
      "metadata": {
        "id": "GysfnUoI0VYC"
      },
      "execution_count": null,
      "outputs": []
    },
    {
      "cell_type": "code",
      "source": [
        "df.groupby('Date')[['Count']].sum()"
      ],
      "metadata": {
        "id": "nPuXZkSV1G0c"
      },
      "execution_count": null,
      "outputs": []
    },
    {
      "cell_type": "markdown",
      "source": [
        "##Extra\n",
        "\n",
        "Agrupar por mes y año."
      ],
      "metadata": {
        "id": "CFvKx8L818Nw"
      }
    },
    {
      "cell_type": "code",
      "source": [
        "df['Month-Year'] = df['Date'].dt.strftime('%m-%Y')\n",
        "df.head()"
      ],
      "metadata": {
        "id": "uSFaITgg2Ana"
      },
      "execution_count": null,
      "outputs": []
    },
    {
      "cell_type": "code",
      "source": [
        "df.groupby('Month-Year')[['Count']].sum()"
      ],
      "metadata": {
        "id": "azyP-VJf2xFS"
      },
      "execution_count": null,
      "outputs": []
    }
  ]
}