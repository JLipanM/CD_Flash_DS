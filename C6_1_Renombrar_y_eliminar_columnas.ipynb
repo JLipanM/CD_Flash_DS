{
  "nbformat": 4,
  "nbformat_minor": 0,
  "metadata": {
    "colab": {
      "provenance": [],
      "authorship_tag": "ABX9TyPRMOEjP8M2Vbz70t3vKHrD",
      "include_colab_link": true
    },
    "kernelspec": {
      "name": "python3",
      "display_name": "Python 3"
    },
    "language_info": {
      "name": "python"
    }
  },
  "cells": [
    {
      "cell_type": "markdown",
      "metadata": {
        "id": "view-in-github",
        "colab_type": "text"
      },
      "source": [
        "<a href=\"https://colab.research.google.com/github/Markohf/CD_Flash_DS/blob/main/C6_1_Renombrar_y_eliminar_columnas.ipynb\" target=\"_parent\"><img src=\"https://colab.research.google.com/assets/colab-badge.svg\" alt=\"Open In Colab\"/></a>"
      ]
    },
    {
      "cell_type": "markdown",
      "source": [
        "#Renombrar y eliminar columnas\n",
        "\n",
        "Como vimos en el ejercicio bike_df nuestras BBDD no siempre vienen listas para trabajar. Es más como data scientist gran parte del trabajo previo para generar información de valor se invierte en limpiar las BBDD y prepararlas para el trabajo.\n",
        "\n",
        "En esta clase aprenderemos una de las primeras tareas para limpiar nuestra data que es limpiar nuestros encabezados."
      ],
      "metadata": {
        "id": "FcY5owzyGCFA"
      }
    },
    {
      "cell_type": "code",
      "execution_count": null,
      "metadata": {
        "id": "kyJ37Gwl_sj0"
      },
      "outputs": [],
      "source": [
        "#Montamos drive.\n",
        "from google.colab import drive\n",
        "drive.mount('/content/drive')"
      ]
    },
    {
      "cell_type": "code",
      "source": [
        "#Importamos pandas.\n",
        "import pandas as pd"
      ],
      "metadata": {
        "id": "hNDYxzJzGyY0"
      },
      "execution_count": null,
      "outputs": []
    },
    {
      "cell_type": "code",
      "source": [
        "#Convertimos nuestra BBDD a un dataframe.\n",
        "filename = '/content/drive/MyDrive/Flashcamp - Data Science/BBDD/mortgages.csv'\n",
        "df = pd.read_csv(filename)\n",
        "#Visualizamos nuestro df.\n",
        "df.head()"
      ],
      "metadata": {
        "id": "gwj_IcrFHCWy"
      },
      "execution_count": null,
      "outputs": []
    },
    {
      "cell_type": "markdown",
      "source": [
        "##Renombrar columnas\n",
        "\n",
        "* Forma 1: sustitucion de diccionario.\n",
        "* Forma 2: reemplazo de lista."
      ],
      "metadata": {
        "id": "6OokIe9tHzNn"
      }
    },
    {
      "cell_type": "code",
      "source": [
        "#Es una buena práctica no usar espacios al momento de manejar datos, en vez de esto se recomienda usar \"_\".\n",
        "#Ademas tambien se recomienda usar solo minúsculas.\n",
        "#Usaremos la forma 1 para corregir los nombres de algunos encabezados para seguir estas buenas prácticas a modo de ejemplo.\n",
        "df = df.rename(columns={'Starting Balance': 'starting_balance',\n",
        "                        'Interest Paid': 'interest_paid',\n",
        "                        'Principal Paid': 'principal_paid'})\n",
        "df.head(3)"
      ],
      "metadata": {
        "id": "Z5zd-8Z5IIYs"
      },
      "execution_count": null,
      "outputs": []
    },
    {
      "cell_type": "code",
      "source": [
        "#Usaremos la forma 2 para corregir todos los encabezados a modo de ejemplo.\n",
        "# Approach 2 list replacement\n",
        "# Even if you want to rename a single column you need to list the rest of the columns\n",
        "df.columns = ['month',\n",
        "              'starting_balance',\n",
        "              'repayment',\n",
        "              'interest_paid',\n",
        "              'principal_paid',\n",
        "              'new_balance',\n",
        "              'mortgage_name',\n",
        "              'interest_rate']\n",
        "df.head()"
      ],
      "metadata": {
        "id": "9FSejYCiJEfc"
      },
      "execution_count": null,
      "outputs": []
    },
    {
      "cell_type": "markdown",
      "source": [
        "Nótese que con la forma 1 puede modificar las columnas que desee, mientras que con la forma 2 debo especificar todas las columnas."
      ],
      "metadata": {
        "id": "xDI8oMy8KN_L"
      }
    },
    {
      "cell_type": "markdown",
      "source": [
        "##Eliminar columnas\n",
        "\n",
        "* Forma 1: uso de `drop`.\n",
        "* Forma 2: uso de `del`."
      ],
      "metadata": {
        "id": "dNtVwDHzKj9b"
      }
    },
    {
      "cell_type": "code",
      "source": [
        "#Aplicaremos el método drop para eliminar una columna a modo de ejemplo.\n",
        "df_new1 = df.drop(columns=['new_balance'])\n",
        "#Visualizamos el df.\n",
        "df_new1.head()"
      ],
      "metadata": {
        "id": "vRHz6PowKXk9"
      },
      "execution_count": null,
      "outputs": []
    },
    {
      "cell_type": "code",
      "source": [
        "#Ahora aplicaremos del para borrar una columna directamente en el df.\n",
        "del df['starting_balance']\n",
        "df.head()"
      ],
      "metadata": {
        "id": "JhgWbe6dNhSe"
      },
      "execution_count": null,
      "outputs": []
    },
    {
      "cell_type": "markdown",
      "source": [
        "Nótese que el método drop no afecta al df original, mientras que usar del si afecta al df original."
      ],
      "metadata": {
        "id": "S_fJ935zN4ob"
      }
    }
  ]
}