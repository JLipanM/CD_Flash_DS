{
  "nbformat": 4,
  "nbformat_minor": 0,
  "metadata": {
    "colab": {
      "provenance": [],
      "authorship_tag": "ABX9TyN891ujJmVFUfSeponGPquj",
      "include_colab_link": true
    },
    "kernelspec": {
      "name": "python3",
      "display_name": "Python 3"
    },
    "language_info": {
      "name": "python"
    }
  },
  "cells": [
    {
      "cell_type": "markdown",
      "metadata": {
        "id": "view-in-github",
        "colab_type": "text"
      },
      "source": [
        "<a href=\"https://colab.research.google.com/github/Markohf/CD_Flash_DS/blob/main/C0_Introducci%C3%B3n_al_Flashcamp_Data_Science.ipynb\" target=\"_parent\"><img src=\"https://colab.research.google.com/assets/colab-badge.svg\" alt=\"Open In Colab\"/></a>"
      ]
    },
    {
      "cell_type": "markdown",
      "source": [
        "# Flashcamp - Data Science\n",
        "* Semana 1: Python para la ciencia de datos.\n",
        "* Semana 2: Pandas para la manipulación de datos.\n",
        "* Semana 3: Visualización exploratoria de datos.\n",
        "* Semana 4: ​Visualización para la presentación de informes."
      ],
      "metadata": {
        "id": "6JNFC388qfxd"
      }
    },
    {
      "cell_type": "markdown",
      "source": [
        "# Reglas de juego\n",
        "\n",
        "* No faltar a ninguna clase y si faltan revisar la grabación.\n",
        "* Si no entiendemos algo, preguntemos.\n",
        "* Dedicar tiempo a avanzar los proyectos de la plataforma.\n",
        "* No atrasarse ya que todo lo visto en clase en necesario para lo que se verá luego.\n",
        "* Busquemos las respuestas por nuestra cuenta. Si no logro dar con la solución buscar a nuestros compañeros, si juntos no encuentran la solución, buscar al docente.\n",
        "* Escribamos nuestro propio código."
      ],
      "metadata": {
        "id": "hv_koEotz1nF"
      }
    },
    {
      "cell_type": "markdown",
      "source": [
        "# Github\n",
        "\n",
        "Github es la plataforma por excelencia de los profesionales de la industría de TI. Esta herramienta no solo nos permite trabajar de forma colaborativa con otras personas, sino que tambien nos permite almacenar nuestros proyectos tanto individuales como colectivos.\n",
        "\n",
        "Nuestro Github es nuestra principal carta de presentación al momento de buscar trabajo ya que nos permite mostrar nuestro portafolio de proyectos a otros."
      ],
      "metadata": {
        "id": "oxxJ0fCpxUCG"
      }
    },
    {
      "cell_type": "markdown",
      "source": [
        "# Python\n",
        "\n",
        "Hay muchos lenguajes de programación cada uno con sus fortalezas y debilidades.\n",
        "\n",
        "Python es un lenguaje flexible, sencillo de aprender y muy popular en la actualidad."
      ],
      "metadata": {
        "id": "2U7e4ufj1egz"
      }
    },
    {
      "cell_type": "markdown",
      "source": [
        "# Google Colab\n",
        "\n",
        "Es una herramienta de google que nos permite codificar en la nube por lo que\n",
        "podremos acceder a nuestro código desde cualquier lado. Por otro lado tienen una interfaz simple e intuitiva y nos permite programar en \"bloques\" lo cual sirve mucho en el proceso de aprendizaje.\n",
        "\n",
        "Sin embargo, \"Colab\" tambien tiene algunas desventajas como una RAM un tanto límitada y a diferencia de otras herramientas colaborativas de google, \"Colab\" no es tán eficiente para trabajar de forma colaborativa.\n",
        "\n"
      ],
      "metadata": {
        "id": "E87qz0xz2I7e"
      }
    }
  ]
}